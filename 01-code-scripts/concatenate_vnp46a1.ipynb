{
 "cells": [
  {
   "cell_type": "markdown",
   "metadata": {},
   "source": [
    "# Introduction\n",
    "\n",
    "Concatenates already-preprocessed VNP46A1 GeoTiff files that are spatially adjacent in the longitudinal direction and exports single GeoTiff files containing the concatenated data. Used in cases when a study area bounding box intersects two VNP46A1 grid cells (.e.g. `VNP46A1.A2020001.h30v05.001.2020004003738.h5` and `VNP46A1.A2020001.h31v05.001.2020004003738.h5` for raw files and `vnp46a1-a2020001-h30v05-001-2020004003738.tif` and `vnp46a1-a2020001-h31v05-001-2020004003841.tif` for already-preprocessed files).\n",
    "\n",
    "This Notebook uses the following folder structure:\n",
    "\n",
    "```\n",
    "├── 01-code-scripts\n",
    "│   ├── clip_vnp46a1.ipynb\n",
    "│   ├── clip_vnp46a1.py\n",
    "│   ├── concatenate_vnp46a1.ipynb\n",
    "│   ├── concatenate_vnp46a1.py\n",
    "│   ├── download_laads_order.ipynb\n",
    "│   ├── download_laads_order.py\n",
    "│   ├── preprocess_vnp46a1.ipynb\n",
    "│   ├── preprocess_vnp46a1.py\n",
    "│   └── viirs.py\n",
    "├── 02-raw-data\n",
    "├── 03-processed-data\n",
    "├── 04-graphics-outputs\n",
    "└── 05-papers-writings\n",
    "```\n",
    "\n",
    "Running the Notebook from the `01-code-scripts/` folder works by default. If the Notebook runs from a different folder, the paths in the environment setup section may have to be changed.\n",
    "\n",
    "This notebook uses files that have alrady been preprocessed and saved to GeoTiff files."
   ]
  },
  {
   "cell_type": "markdown",
   "metadata": {},
   "source": [
    "# Environment Setup"
   ]
  },
  {
   "cell_type": "code",
   "execution_count": null,
   "metadata": {
    "ExecuteTime": {
     "end_time": "2020-10-28T15:46:27.953816Z",
     "start_time": "2020-10-28T15:46:27.798980Z"
    }
   },
   "outputs": [],
   "source": [
    "# Load Notebook formatter\n",
    "%load_ext nb_black\n",
    "# %reload_ext nb_black"
   ]
  },
  {
   "cell_type": "code",
   "execution_count": null,
   "metadata": {
    "ExecuteTime": {
     "end_time": "2020-10-28T15:46:29.204612Z",
     "start_time": "2020-10-28T15:46:27.956803Z"
    }
   },
   "outputs": [],
   "source": [
    "# Import packages\n",
    "import os\n",
    "import warnings\n",
    "import glob\n",
    "import viirs"
   ]
  },
  {
   "cell_type": "code",
   "execution_count": null,
   "metadata": {
    "ExecuteTime": {
     "end_time": "2020-10-28T15:46:29.217552Z",
     "start_time": "2020-10-28T15:46:29.207583Z"
    }
   },
   "outputs": [],
   "source": [
    "# Set options\n",
    "warnings.simplefilter(\"ignore\")"
   ]
  },
  {
   "cell_type": "code",
   "execution_count": null,
   "metadata": {
    "ExecuteTime": {
     "end_time": "2020-10-28T15:46:29.235511Z",
     "start_time": "2020-10-28T15:46:29.219535Z"
    }
   },
   "outputs": [],
   "source": [
    "# Set working directory\n",
    "os.chdir(\"..\")"
   ]
  },
  {
   "cell_type": "markdown",
   "metadata": {},
   "source": [
    "# User-Defined Variables"
   ]
  },
  {
   "cell_type": "code",
   "execution_count": null,
   "metadata": {
    "ExecuteTime": {
     "end_time": "2020-10-28T15:46:29.252449Z",
     "start_time": "2020-10-28T15:46:29.237487Z"
    }
   },
   "outputs": [],
   "source": [
    "# Define path to folder containing preprocessed VNP46A1 GeoTiff files\n",
    "geotiff_input_folder = os.path.join(\n",
    "    \"03-processed-data\", \"raster\", \"south-korea\", \"vnp46a1-grid\"\n",
    ")\n",
    "\n",
    "# Defne path to output folder to store concatenated, exported GeoTiff files\n",
    "geotiff_output_folder = os.path.join(\n",
    "    \"03-processed-data\", \"raster\", \"south-korea\", \"vnp46a1-grid-concatenated\"\n",
    ")\n",
    "\n",
    "# Set start date and end date for processing\n",
    "start_date, end_date = \"2020-01-01\", \"2020-04-09\""
   ]
  },
  {
   "cell_type": "markdown",
   "metadata": {},
   "source": [
    "# Data Preprocessing"
   ]
  },
  {
   "cell_type": "code",
   "execution_count": null,
   "metadata": {
    "ExecuteTime": {
     "end_time": "2020-10-28T15:46:31.895246Z",
     "start_time": "2020-10-28T15:46:29.255439Z"
    }
   },
   "outputs": [],
   "source": [
    "# Concatenate and export adjacent images that have the same acquisition date\n",
    "dates = viirs.create_date_range(start_date=start_date, end_date=end_date)\n",
    "geotiff_files = glob.glob(os.path.join(geotiff_input_folder, \"*.tif\"))\n",
    "concatenated_dates = 0\n",
    "skipped_dates = 0\n",
    "processed_dates = 0\n",
    "total_dates = len(dates)\n",
    "for date in dates:\n",
    "    adjacent_images = []\n",
    "    for file in geotiff_files:\n",
    "        if date in viirs.extract_date_vnp46a1(geotiff_path=file):\n",
    "            adjacent_images.append(file)\n",
    "    adjacent_images_sorted = sorted(adjacent_images)\n",
    "    if len(adjacent_images_sorted) == 2:\n",
    "        viirs.concatenate_preprocessed_vnp46a1(\n",
    "            west_geotiff_path=adjacent_images_sorted[0],\n",
    "            east_geotiff_path=adjacent_images_sorted[1],\n",
    "            output_folder=geotiff_output_folder,\n",
    "        )\n",
    "        concatenated_dates += 1\n",
    "    else:\n",
    "        skipped_dates += 1\n",
    "    processed_dates += 1\n",
    "    print(f\"Processed dates: {processed_dates} of {total_dates}\\n\\n\")\n",
    "\n",
    "print(\n",
    "    f\"Concatenated dates: {concatenated_dates}, Skipped dates: {skipped_dates}\"\n",
    ")"
   ]
  }
 ],
 "metadata": {
  "hide_input": false,
  "kernelspec": {
   "display_name": "Python 3",
   "language": "python",
   "name": "python3"
  },
  "language_info": {
   "codemirror_mode": {
    "name": "ipython",
    "version": 3
   },
   "file_extension": ".py",
   "mimetype": "text/x-python",
   "name": "python",
   "nbconvert_exporter": "python",
   "pygments_lexer": "ipython3",
   "version": "3.7.6"
  },
  "toc": {
   "base_numbering": 1,
   "nav_menu": {},
   "number_sections": true,
   "sideBar": true,
   "skip_h1_title": false,
   "title_cell": "Table of Contents",
   "title_sidebar": "Contents",
   "toc_cell": false,
   "toc_position": {
    "height": "calc(100% - 180px)",
    "left": "10px",
    "top": "150px",
    "width": "307.2px"
   },
   "toc_section_display": true,
   "toc_window_display": false
  },
  "varInspector": {
   "cols": {
    "lenName": 16,
    "lenType": 16,
    "lenVar": 40
   },
   "kernels_config": {
    "python": {
     "delete_cmd_postfix": "",
     "delete_cmd_prefix": "del ",
     "library": "var_list.py",
     "varRefreshCmd": "print(var_dic_list())"
    },
    "r": {
     "delete_cmd_postfix": ") ",
     "delete_cmd_prefix": "rm(",
     "library": "var_list.r",
     "varRefreshCmd": "cat(var_dic_list()) "
    }
   },
   "types_to_exclude": [
    "module",
    "function",
    "builtin_function_or_method",
    "instance",
    "_Feature"
   ],
   "window_display": false
  }
 },
 "nbformat": 4,
 "nbformat_minor": 4
}
