{
 "cells": [
  {
   "cell_type": "markdown",
   "metadata": {},
   "source": [
    "# Introduction \n",
    "\n",
    "Downloads a LAADS Web Order. The script will download files to the directory specified in the `download_directory` variable. Any folders not existing in the specified path will be created during the download.\n",
    "\n",
    "Level-1 and Atmosphere Archive & Distribution System (LAADS) home:\n",
    "\n",
    "* https://ladsweb.modaps.eosdis.nasa.gov/about/purpose/\n",
    "\n",
    "Files can be searched for and data orders can be placed here:\n",
    "\n",
    "* https://ladsweb.modaps.eosdis.nasa.gov/search/\n",
    "\n",
    "User accounts (needed to obtain a token) can be created here:\n",
    "\n",
    "* https://urs.earthdata.nasa.gov/\n",
    "\n",
    "Download parameters will accompany the LAADS order completion email:\n",
    "\n",
    "* `-e robots=off` : Bypass the robots.txt file, to allow access to all files in the order\n",
    "\n",
    "\n",
    "* `-m`            : Enable mirroring options (-r -N -l inf) for recursive download, timestamping & unlimited depth\n",
    "\n",
    "\n",
    "* `-np`           : Do not recurse into the parent location\n",
    "\n",
    "\n",
    "* `-R .html,.tmp` : Reject (do not save) any .html or .tmp files (which are extraneous to the order)\n",
    "\n",
    "\n",
    "* `-nH`           : Do not create a subdirectory with the Host name (ladsweb.modaps.eosdis.nasa.gov)\n",
    "\n",
    "\n",
    "* `--cut-dirs=3`  : Do not create subdirectories for the first 3 levels (archive/orders/{ORDER_ID})\n",
    "\n",
    "\n",
    "* `--header`      : Adds the header with your appKey (which is encrypted via SSL)\n",
    "\n",
    "\n",
    "* `-P`            : Specify the directory prefix (may be relative or absolute)\n",
    "\n",
    "This Notebook uses the following folder structure:\n",
    "\n",
    "* `nighttime-radiance/`\n",
    "    * `01-code-scripts/`\n",
    "    * `02-raw-data/`\n",
    "    * `03-processed-data/`\n",
    "    * `04-graphics-outputs/`\n",
    "    * `05-papers-writings/`\n",
    "\n",
    "Running the Notebook from the `01-code-scripts/` folder works by default. If the Notebook runs from a different folder, the paths in the environment setup section may have to be changed."
   ]
  },
  {
   "cell_type": "markdown",
   "metadata": {},
   "source": [
    "# Environment Setup"
   ]
  },
  {
   "cell_type": "code",
   "execution_count": null,
   "metadata": {
    "ExecuteTime": {
     "end_time": "2020-10-28T17:21:21.900127Z",
     "start_time": "2020-10-28T17:21:21.755509Z"
    }
   },
   "outputs": [],
   "source": [
    "# Load Notebook formatter\n",
    "%load_ext nb_black\n",
    "# %reload_ext nb_black"
   ]
  },
  {
   "cell_type": "code",
   "execution_count": null,
   "metadata": {
    "ExecuteTime": {
     "end_time": "2020-10-28T17:21:21.994873Z",
     "start_time": "2020-10-28T17:21:21.987892Z"
    }
   },
   "outputs": [],
   "source": [
    "# Import packages\n",
    "import os"
   ]
  },
  {
   "cell_type": "code",
   "execution_count": null,
   "metadata": {
    "ExecuteTime": {
     "end_time": "2020-10-28T17:21:25.699687Z",
     "start_time": "2020-10-28T17:21:25.688718Z"
    }
   },
   "outputs": [],
   "source": [
    "# Set working directory\n",
    "os.chdir(\"..\")"
   ]
  },
  {
   "cell_type": "markdown",
   "metadata": {},
   "source": [
    "# User-Defined Variables"
   ]
  },
  {
   "cell_type": "code",
   "execution_count": null,
   "metadata": {
    "ExecuteTime": {
     "end_time": "2020-10-28T17:21:33.200338Z",
     "start_time": "2020-10-28T17:21:33.185379Z"
    }
   },
   "outputs": [],
   "source": [
    "# Set LAADS token (specific to user account)\n",
    "token = os.environ.get(\"LAADS_TOKEN\")\n",
    "\n",
    "# Set path to file containing order ID\n",
    "order_id_file_path = os.path.join(\"05-papers-writings\", \"laads-order.txt\")\n",
    "\n",
    "# Set location for data downloaded (for test and real data)\n",
    "test_directory = \"05-papers-writings\"\n",
    "data_directory = os.path.join(\"02-raw-data\", \"raster\", \"south-korea\")\n",
    "\n",
    "# Test the script by downloading LAADS README\n",
    "#  Set True for README download, False for LAADS data order download\n",
    "test_download = True"
   ]
  },
  {
   "cell_type": "markdown",
   "metadata": {},
   "source": [
    "# Data Acquistion"
   ]
  },
  {
   "cell_type": "code",
   "execution_count": null,
   "metadata": {
    "ExecuteTime": {
     "end_time": "2020-10-28T17:26:07.211661Z",
     "start_time": "2020-10-28T17:26:06.370445Z"
    }
   },
   "outputs": [],
   "source": [
    "# Get order ID from file\n",
    "with open(order_id_file_path, mode=\"r\") as file:\n",
    "    order_id = int(file.readline())\n",
    "\n",
    "# Set wget download string\n",
    "download_str = (\n",
    "    (\n",
    "        \"wget -e robots=off -m -np -R .html,.tmp -nH --cut-dirs=3 \"\n",
    "        '\"https://ladsweb.modaps.eosdis.nasa.gov/archive/README\" '\n",
    "        f'--header \"Authorization: Bearer {token}\" -P {test_directory}'\n",
    "    )\n",
    "    if test_download\n",
    "    else (\n",
    "        \"wget -e robots=off -m -np -R .html,.tmp -nH --cut-dirs=3 \"\n",
    "        f'\"https://ladsweb.modaps.eosdis.nasa.gov/archive/orders/{order_id}/\" '\n",
    "        f'--header \"Authorization: Bearer {token}\" -P {data_directory}'\n",
    "    )\n",
    ")\n",
    "\n",
    "# Download data\n",
    "result = os.system(download_str)\n",
    "if result == 0:\n",
    "    print(\"Downloaded data.\")\n",
    "else:\n",
    "    print(\"Failed to download data.\")"
   ]
  }
 ],
 "metadata": {
  "hide_input": false,
  "kernelspec": {
   "display_name": "Python 3",
   "language": "python",
   "name": "python3"
  },
  "language_info": {
   "codemirror_mode": {
    "name": "ipython",
    "version": 3
   },
   "file_extension": ".py",
   "mimetype": "text/x-python",
   "name": "python",
   "nbconvert_exporter": "python",
   "pygments_lexer": "ipython3",
   "version": "3.7.6"
  },
  "toc": {
   "base_numbering": 1,
   "nav_menu": {},
   "number_sections": true,
   "sideBar": true,
   "skip_h1_title": false,
   "title_cell": "Table of Contents",
   "title_sidebar": "Contents",
   "toc_cell": false,
   "toc_position": {},
   "toc_section_display": true,
   "toc_window_display": true
  },
  "varInspector": {
   "cols": {
    "lenName": 16,
    "lenType": 16,
    "lenVar": 40
   },
   "kernels_config": {
    "python": {
     "delete_cmd_postfix": "",
     "delete_cmd_prefix": "del ",
     "library": "var_list.py",
     "varRefreshCmd": "print(var_dic_list())"
    },
    "r": {
     "delete_cmd_postfix": ") ",
     "delete_cmd_prefix": "rm(",
     "library": "var_list.r",
     "varRefreshCmd": "cat(var_dic_list()) "
    }
   },
   "types_to_exclude": [
    "module",
    "function",
    "builtin_function_or_method",
    "instance",
    "_Feature"
   ],
   "window_display": false
  }
 },
 "nbformat": 4,
 "nbformat_minor": 4
}
