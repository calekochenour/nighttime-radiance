{
 "cells": [
  {
   "cell_type": "markdown",
   "metadata": {},
   "source": [
    "# Introduction\n",
    "\n",
    "Preprocesses NASA VNP46A1 HDF5 files. This Notebook takes raw `.h5` files and completes the following preprocessing tasks:\n",
    "\n",
    "* Extracts radiance and qualify flag bands;\n",
    "* Masks radiance for fill values, clouds, and sensor problems;\n",
    "* Fills masked data with NaN values;\n",
    "* Creates a georeferencing transform;\n",
    "* Creates export metadata; and,\n",
    "* Exports radiance data to GeoTiff format.\n",
    "\n",
    "This Notebook uses the following folder structure:\n",
    "\n",
    "* `nighttime-radiance/`\n",
    "    * `01-code-scripts/`\n",
    "        * `preprocess_vnp46a1.py`\n",
    "    * `02-raw-data/`\n",
    "    * `03-processed-data/`\n",
    "    * `04-graphics-outputs/`\n",
    "    * `05-papers-writings/`\n",
    "\n",
    "Running the Notebook from the `01-code-scripts/` folder works by default. If the Notebook runs from a different folder, the paths in the environment setup section may have to be changed."
   ]
  },
  {
   "cell_type": "markdown",
   "metadata": {},
   "source": [
    "# Environment Setup"
   ]
  },
  {
   "cell_type": "code",
   "execution_count": null,
   "metadata": {
    "ExecuteTime": {
     "end_time": "2020-10-24T22:04:45.870198Z",
     "start_time": "2020-10-24T22:04:45.723579Z"
    }
   },
   "outputs": [],
   "source": [
    "# Load Notebook formatter\n",
    "%load_ext nb_black\n",
    "# %reload_ext nb_black"
   ]
  },
  {
   "cell_type": "code",
   "execution_count": null,
   "metadata": {
    "ExecuteTime": {
     "end_time": "2020-10-24T22:04:46.084876Z",
     "start_time": "2020-10-24T22:04:45.873191Z"
    }
   },
   "outputs": [],
   "source": [
    "# Import packages\n",
    "import os\n",
    "import warnings\n",
    "import glob\n",
    "import viirs"
   ]
  },
  {
   "cell_type": "code",
   "execution_count": null,
   "metadata": {
    "ExecuteTime": {
     "end_time": "2020-10-24T22:04:46.095830Z",
     "start_time": "2020-10-24T22:04:46.086839Z"
    }
   },
   "outputs": [],
   "source": [
    "# Set options\n",
    "warnings.simplefilter(\"ignore\")"
   ]
  },
  {
   "cell_type": "code",
   "execution_count": null,
   "metadata": {
    "ExecuteTime": {
     "end_time": "2020-10-24T22:04:46.108795Z",
     "start_time": "2020-10-24T22:04:46.098807Z"
    }
   },
   "outputs": [],
   "source": [
    "# Set working directory\n",
    "os.chdir(\"..\")"
   ]
  },
  {
   "cell_type": "markdown",
   "metadata": {},
   "source": [
    "# User-Defined Variables"
   ]
  },
  {
   "cell_type": "code",
   "execution_count": null,
   "metadata": {
    "ExecuteTime": {
     "end_time": "2020-10-24T22:04:46.122743Z",
     "start_time": "2020-10-24T22:04:46.110776Z"
    }
   },
   "outputs": [],
   "source": [
    "# Define path folder containing input VNP46A1 HDF5 files\n",
    "hdf5_input_folder = os.path.join(\"02-raw-data\", \"hdf\", \"south-korea\")\n",
    "\n",
    "# Defne path to output folder to store exported GeoTiff files\n",
    "geotiff_output_folder = os.path.join(\n",
    "    \"03-processed-data\", \"raster\", \"south-korea\", \"vnp46a1-grid\"\n",
    ")"
   ]
  },
  {
   "cell_type": "markdown",
   "metadata": {},
   "source": [
    "# Data Preprocessing"
   ]
  },
  {
   "cell_type": "code",
   "execution_count": null,
   "metadata": {
    "ExecuteTime": {
     "end_time": "2020-10-24T22:04:53.533901Z",
     "start_time": "2020-10-24T22:04:46.124736Z"
    },
    "scrolled": true
   },
   "outputs": [],
   "source": [
    "# Preprocess each HDF5 file (extract bands, mask for fill values, clouds, and\n",
    "#  sensor problems, fill masked values with NaN, export to GeoTiff)\n",
    "hdf5_files = glob.glob(os.path.join(hdf5_input_folder, \"*.h5\"))\n",
    "processed_files = 0\n",
    "total_files = len(hdf5_files)\n",
    "for hdf5 in hdf5_files:\n",
    "    viirs.preprocess_vnp46a1(\n",
    "        hdf5_path=hdf5, output_folder=geotiff_output_folder\n",
    "    )\n",
    "    processed_files += 1\n",
    "    print(f\"Preprocessed file: {processed_files} of {total_files}\\n\\n\")"
   ]
  },
  {
   "cell_type": "markdown",
   "metadata": {},
   "source": [
    "Workflow:\n",
    "* Download HDF files\n",
    "* Load HDF files\n",
    "* Read radiance band into array\n",
    "* Read cloud mask data into array \n",
    "* Read other QA data into array\n",
    "* Create stack of bands to use\n",
    "* Clip stack\n",
    "* Mask for DNB band quality\n",
    "* Mask for clouds\n",
    "* Mask radiance based on QA/cloud mask flags\n",
    "* Set no data/masked to 0\n",
    "* Set data outside bounds to 0\n",
    "* Store in dictionary based on year/month/day/time\n",
    "* Get metadata\n",
    "* Export radiance to GeoTiff\n",
    "\n"
   ]
  },
  {
   "cell_type": "markdown",
   "metadata": {},
   "source": [
    "# Notes and References"
   ]
  },
  {
   "cell_type": "markdown",
   "metadata": {},
   "source": [
    "Links:\n",
    "\n",
    "* https://ladsweb.modaps.eosdis.nasa.gov/missions-and-measurements/products/VNP46A1/\n",
    "* https://viirsland.gsfc.nasa.gov/PDF/VIIRS_BlackMarble_UserGuide.pdf"
   ]
  },
  {
   "cell_type": "markdown",
   "metadata": {},
   "source": [
    "Download HDF5 files taken care of by `download_laads_order.py`"
   ]
  },
  {
   "cell_type": "markdown",
   "metadata": {},
   "source": [
    "File naming convention:\n",
    "\n",
    "VNP46A1.AYYYYDDD.hXXvYY.CCC.YYYYDDDHHMMSS.h5\n",
    "\n",
    "* VNP46A1 = Short-name\n",
    "* AYYYYDDD = Acquisition Year and Day of Year\n",
    "* hXXvYY = Tile Identifier (horizontalXXverticalYY)\n",
    "* CCC = Collection Version\n",
    "* YYYYDDDHHMMSS = Production Date – Year, Day, Hour, Minute, Second\n",
    "* h5 = Data Format (HDF5)"
   ]
  },
  {
   "cell_type": "markdown",
   "metadata": {},
   "source": [
    "Bands of interest (table from pages 12-13 of handbook)\n",
    "\n",
    "| Scientific Dataset          | Units             | Description            | Bit Types               | Fill Value | Valid Range | Scale Factor | Offset |\n",
    "|:-----------------------------|:-------------------|:------------------------|:-------------------------|:------------|:-------------|:--------------|:--------|\n",
    "| DNB_At_Sensor_Radiance_500m | nW_per_cm2_per_sr | At-sensor DNB radiance | 16-bit unsigned integer | 65535      | 0 - 65534   | 0.1          | 0.0    |\n",
    "| QF_Cloud_Mask               | Unitless          | Cloud mask status      | 16-bit unsigned integer | 65535      | 0 - 65534   | N/A          | N/A    |\n",
    "| QF_DNB                      | Unitless          | DNB_quality flag       | 16-bit unsigned integer | 65535      | 0 - 65534   | N/A          | N/A    |\n",
    "| UTC_Time                    | Decimal hours     | UTC Time               | 32-bit floating point   | -999.9     | 0 - 24      | 1.0          | 0.0    |"
   ]
  },
  {
   "cell_type": "markdown",
   "metadata": {},
   "source": [
    "How to get Georeferencing info not using GDAL? extract bounds from file using netCDF4 package?"
   ]
  },
  {
   "cell_type": "markdown",
   "metadata": {},
   "source": [
    "NASA Scripts:\n",
    "\n",
    "https://git.earthdata.nasa.gov/projects/LPDUR/repos/nasa-viirs/browse/scripts\n",
    "\n",
    "https://git.earthdata.nasa.gov/projects/LPDUR/repos/nasa-viirs/browse/scripts/VIIRS_HDF5toGeoTIFF.py"
   ]
  },
  {
   "cell_type": "markdown",
   "metadata": {},
   "source": [
    "https://urs.earthdata.nasa.gov/"
   ]
  },
  {
   "cell_type": "markdown",
   "metadata": {},
   "source": [
    "Workflow:\n",
    "\n",
    "* Mask stack for no data\n",
    "* Mask stack for QA (cloud, snow, shadow, etc.)\n",
    "* Scale stack\n",
    "* Fill stack\n",
    "    * Have different fill values for different layers?\n",
    "    * And/or have fill values that are of the same `dtype` as the original layer?"
   ]
  },
  {
   "cell_type": "markdown",
   "metadata": {},
   "source": [
    "Masking Criteria:\n",
    "\n",
    "* mask where DNB_At_Sensor_Radiance_500m == 65535\n",
    "* mask where DNB_At_Sensor_Radiance_500m > 65534\n",
    "* mask where DNB_At_Sensor_Radiance_500m < 0\n",
    "* mask where QF_Cloud_Mask == 2 (Probably Cloudy)\n",
    "* mask where QF_Cloud_Mask == 3 (Confident Cloudy)\n",
    "* mask where QF_DNB != 0 (0 = no problems, any other number means some kind of issue)"
   ]
  },
  {
   "cell_type": "markdown",
   "metadata": {},
   "source": [
    "* Extract bands\n",
    "* Mask for fill values\n",
    "* Mask for clouds\n",
    "* Mask for sensor problems\n",
    "* Fill masked values\n",
    "* Create transform\n",
    "* Create metadata\n",
    "* Export array to GeoTiff"
   ]
  },
  {
   "cell_type": "markdown",
   "metadata": {},
   "source": [
    "* QF_Cloud_Mask\n",
    "    * Bit 0 - Day/Night \t\n",
    "        * 0 (Night)\n",
    "        * 1 (Day)\n",
    "        \n",
    "    * Bits 1-3 - Land/Water Background\n",
    "        * 0 (Land & Desert)\n",
    "        * 1 (Land no Desert)\n",
    "        * 2 (Inland Water)\n",
    "        * 3 (Sea Water)\n",
    "        * 5 (Coastal)\n",
    "        \n",
    "    * Bits 4-5 - Cloud Mask Quality \t\n",
    "        * 0 (Poor)\n",
    "        * 1 (Low)\n",
    "        * 2 (Medium)\n",
    "        * 3 (High)\n",
    "    \n",
    "    * Bits 6-7 - Cloud Detection Results & Confidence Indicator \n",
    "        * 0 (Confident Clear)\n",
    "        * 1 (Probably Clear)\n",
    "        * 2 (Probably Cloudy)\n",
    "        * 3 (Confident Cloudy)\n",
    "\n",
    "    * Bit 8 - Shadow Detected\n",
    "        * 1 (Yes)\n",
    "        * 0 (No)\n",
    "\n",
    "    * Bit 9 - Cirrus Detection (IR) (BTM15 –BTM16) \t\n",
    "        * 1 (Cloud)\n",
    "        * 0 (No Cloud)\n",
    "\n",
    "    * Bit 10 - Snow/Ice Surface\n",
    "        * 1 (Snow/Ice)\n",
    "        * 0 (No Snow/Ice)"
   ]
  },
  {
   "cell_type": "markdown",
   "metadata": {},
   "source": [
    "QF_Cloud_Mask (base-2):\n",
    "\n",
    "| Bit | Flag Description Key                          | Interpretation                                                                            |\n",
    "|:-----|:-----------------------------------------------|:-------------------------------------------------------------------------------------------|\n",
    "| 0   | Day/Night                                     | 0 = Night <br> 1 = Day                                                                         |\n",
    "| 1-3 | Land/Water Background                         | 000 = Land & Desert <br> 001 = Land no Desert <br> 010 = Inland Water <br> 011 = Sea Water <br> 101 = Coastal |\n",
    "| 4-5 | Cloud Mask Quality                            | 00 = Poor <br> 01 = Low <br> 10 = Medium <br> 11 = High                                                  |\n",
    "| 6-7 | Cloud Detection Results & Confidence Indicator | 00 = Confident Clear <br> 01 = Probably Clear <br> 10 = Probably Cloudy <br> 11 = Confident Cloudy     |\n",
    "| 8   | Shadow Detected                               | 1 = Yes <br> 0 = No                                                                            |\n",
    "| 9   | Cirrus Detection (IR) (BTM15 –BTM16)          | 1 = Cloud <br> 0 = No Cloud                                                                   |\n",
    "| 10  | Snow/Ice Surface                              | 1 = Snow/Ice <br> 0 = No Snow/Ice                                                            |"
   ]
  },
  {
   "cell_type": "markdown",
   "metadata": {},
   "source": [
    "QF_Cloud_Mask (base-10):\n",
    "\n",
    "| Bit | Flag Description Key                          | Interpretation                                                                            |\n",
    "|:-----|:-----------------------------------------------|:-------------------------------------------------------------------------------------------|\n",
    "| 0   | Day/Night                                     | 0 = Night <br> 1 = Day                                                                         |\n",
    "| 1-3 | Land/Water Background                         | 0 = Land & Desert <br> 1 = Land no Desert <br> 2 = Inland Water <br> 3 = Sea Water <br> 5 = Coastal |\n",
    "| 4-5 | Cloud Mask Quality                            | 0 = Poor <br> 1 = Low <br> 2 = Medium <br> 3 = High                                                  |\n",
    "| 6-7 | Cloud Detection Results & Confidence Indicator | 0 = Confident Clear <br> 1 = Probably Clear <br> 2 = Probably Cloudy <br> 3 = Confident Cloudy     |\n",
    "| 8   | Shadow Detected                               | 1 = Yes <br> 0 = No                                                                            |\n",
    "| 9   | Cirrus Detection (IR) (BTM15 –BTM16)          | 1 = Cloud <br> 0 = No Cloud                                                                   |\n",
    "| 10  | Snow/Ice Surface                              | 1 = Snow/Ice <br> 0 = No Snow/Ice                                                            |"
   ]
  },
  {
   "cell_type": "markdown",
   "metadata": {},
   "source": [
    "QF_DNB:\n",
    "\n",
    "| SDS Layer | Flag Mask Values and Descriptions|\n",
    "|:-----------|:-----------------------------------------------------------------------------------------------------------------------------------------------------------------------------------------------------------------------|\n",
    "| QF_DNB    | 1 &nbsp;&nbsp;&nbsp;&nbsp;&nbsp; = Substitute_Cal<br>2&nbsp;&nbsp;&nbsp;&nbsp;&nbsp;&nbsp; = Out_of_Range<br>4&nbsp;&nbsp;&nbsp;&nbsp;&nbsp;&nbsp; = Saturation<br>8&nbsp;&nbsp;&nbsp;&nbsp;&nbsp;&nbsp; = Temp_not_Nominal<br>16&nbsp;&nbsp;&nbsp;&nbsp; = Stray_Light<br>256&nbsp;&nbsp; = Bowtie_Deleted/Range_Bit<br>512&nbsp;&nbsp; = Missing_EV<br>1024 = Cal_Fail<br>2048 = Dead_Detector |"
   ]
  },
  {
   "cell_type": "markdown",
   "metadata": {},
   "source": [
    "https://ladsweb.modaps.eosdis.nasa.gov/missions-and-measurements/products/VNP46A1/"
   ]
  }
 ],
 "metadata": {
  "hide_input": false,
  "kernelspec": {
   "display_name": "Python 3",
   "language": "python",
   "name": "python3"
  },
  "language_info": {
   "codemirror_mode": {
    "name": "ipython",
    "version": 3
   },
   "file_extension": ".py",
   "mimetype": "text/x-python",
   "name": "python",
   "nbconvert_exporter": "python",
   "pygments_lexer": "ipython3",
   "version": "3.7.6"
  },
  "toc": {
   "base_numbering": 1,
   "nav_menu": {},
   "number_sections": true,
   "sideBar": true,
   "skip_h1_title": false,
   "title_cell": "Table of Contents",
   "title_sidebar": "Contents",
   "toc_cell": false,
   "toc_position": {
    "height": "calc(100% - 180px)",
    "left": "10px",
    "top": "150px",
    "width": "307.2px"
   },
   "toc_section_display": true,
   "toc_window_display": true
  },
  "varInspector": {
   "cols": {
    "lenName": 16,
    "lenType": 16,
    "lenVar": 40
   },
   "kernels_config": {
    "python": {
     "delete_cmd_postfix": "",
     "delete_cmd_prefix": "del ",
     "library": "var_list.py",
     "varRefreshCmd": "print(var_dic_list())"
    },
    "r": {
     "delete_cmd_postfix": ") ",
     "delete_cmd_prefix": "rm(",
     "library": "var_list.r",
     "varRefreshCmd": "cat(var_dic_list()) "
    }
   },
   "types_to_exclude": [
    "module",
    "function",
    "builtin_function_or_method",
    "instance",
    "_Feature"
   ],
   "window_display": false
  }
 },
 "nbformat": 4,
 "nbformat_minor": 4
}
