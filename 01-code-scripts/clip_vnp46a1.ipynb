{
 "cells": [
  {
   "cell_type": "markdown",
   "metadata": {},
   "source": [
    "# Introduction\n",
    "\n",
    "Clips already concatenated (and already-preprocessed) VNP46A1 GeoTiff files to a specified country bounding box.\n",
    "\n",
    "This Notebook uses the following folder structure:\n",
    "\n",
    "```\n",
    "├── 01-code-scripts\n",
    "│   ├── clip_vnp46a1.ipynb\n",
    "│   ├── clip_vnp46a1.py\n",
    "│   ├── concatenate_vnp46a1.ipynb\n",
    "│   ├── concatenate_vnp46a1.py\n",
    "│   ├── download_laads_order.ipynb\n",
    "│   ├── download_laads_order.py\n",
    "│   ├── preprocess_vnp46a1.ipynb\n",
    "│   ├── preprocess_vnp46a1.py\n",
    "│   └── viirs.py\n",
    "├── 02-raw-data\n",
    "├── 03-processed-data\n",
    "├── 04-graphics-outputs\n",
    "└── 05-papers-writings\n",
    "```\n",
    "\n",
    "Running the Notebook from the `01-code-scripts/` folder works by default. If the Notebook runs from a different folder, the paths in the environment setup section may have to be changed."
   ]
  },
  {
   "cell_type": "markdown",
   "metadata": {},
   "source": [
    "# Environment Setup"
   ]
  },
  {
   "cell_type": "code",
   "execution_count": null,
   "metadata": {
    "ExecuteTime": {
     "end_time": "2020-10-28T15:47:00.145720Z",
     "start_time": "2020-10-28T15:47:00.003086Z"
    }
   },
   "outputs": [],
   "source": [
    "# Load Notebook formatter\n",
    "%load_ext nb_black\n",
    "# %reload_ext nb_black"
   ]
  },
  {
   "cell_type": "code",
   "execution_count": null,
   "metadata": {
    "ExecuteTime": {
     "end_time": "2020-10-28T15:47:01.401715Z",
     "start_time": "2020-10-28T15:47:00.147698Z"
    }
   },
   "outputs": [],
   "source": [
    "# Import packages\n",
    "import os\n",
    "import warnings\n",
    "import glob\n",
    "import geopandas as gpd\n",
    "import viirs"
   ]
  },
  {
   "cell_type": "code",
   "execution_count": null,
   "metadata": {
    "ExecuteTime": {
     "end_time": "2020-10-28T15:47:01.415679Z",
     "start_time": "2020-10-28T15:47:01.404709Z"
    }
   },
   "outputs": [],
   "source": [
    "# Set options\n",
    "warnings.simplefilter(\"ignore\")"
   ]
  },
  {
   "cell_type": "code",
   "execution_count": null,
   "metadata": {
    "ExecuteTime": {
     "end_time": "2020-10-28T15:47:01.426650Z",
     "start_time": "2020-10-28T15:47:01.417674Z"
    }
   },
   "outputs": [],
   "source": [
    "# Set working directory\n",
    "os.chdir(\"..\")"
   ]
  },
  {
   "cell_type": "markdown",
   "metadata": {},
   "source": [
    "# User-Defined Variables"
   ]
  },
  {
   "cell_type": "code",
   "execution_count": null,
   "metadata": {
    "ExecuteTime": {
     "end_time": "2020-10-28T15:47:01.447593Z",
     "start_time": "2020-10-28T15:47:01.429641Z"
    }
   },
   "outputs": [],
   "source": [
    "# Set path to folder containing concateanted preprocessed VNP46A1 files\n",
    "geotiff_input_folder = os.path.join(\n",
    "    \"03-processed-data\", \"raster\", \"south-korea\", \"vnp46a1-grid-concatenated\"\n",
    ")\n",
    "\n",
    "# Set path to output folder to store clipped, exported files\n",
    "geotiff_output_folder = os.path.join(\n",
    "    \"03-processed-data\", \"raster\", \"south-korea\", \"vnp46a1-clipped\"\n",
    ")\n",
    "\n",
    "# Set path to shapefile for clipping GeoTiff files\n",
    "shapefile_path = os.path.join(\n",
    "    \"02-raw-data\", \"vector\", \"south-korea\", \"gadm36_south_korea.shp\"\n",
    ")\n",
    "\n",
    "# Set country name for clipping (for file export name)\n",
    "clip_country = \"South Korea\""
   ]
  },
  {
   "cell_type": "markdown",
   "metadata": {},
   "source": [
    "# Data Preprocessing"
   ]
  },
  {
   "cell_type": "code",
   "execution_count": null,
   "metadata": {
    "ExecuteTime": {
     "end_time": "2020-10-28T15:47:03.366919Z",
     "start_time": "2020-10-28T15:47:01.449587Z"
    }
   },
   "outputs": [],
   "source": [
    "# Clip images to bounding box and export clipped images to GeoTiff files\n",
    "geotiff_files = glob.glob(os.path.join(geotiff_input_folder, \"*.tif\"))\n",
    "clipped_files = 0\n",
    "total_files = len(geotiff_files)\n",
    "for file in geotiff_files:\n",
    "    viirs.clip_vnp46a1(\n",
    "        geotiff_path=file,\n",
    "        clip_boundary=gpd.read_file(shapefile_path),\n",
    "        clip_country=clip_country,\n",
    "        output_folder=geotiff_output_folder,\n",
    "    )\n",
    "    clipped_files += 1\n",
    "    print(f\"Clipped file: {clipped_files} of {total_files}\\n\\n\")"
   ]
  }
 ],
 "metadata": {
  "hide_input": false,
  "kernelspec": {
   "display_name": "Python 3",
   "language": "python",
   "name": "python3"
  },
  "language_info": {
   "codemirror_mode": {
    "name": "ipython",
    "version": 3
   },
   "file_extension": ".py",
   "mimetype": "text/x-python",
   "name": "python",
   "nbconvert_exporter": "python",
   "pygments_lexer": "ipython3",
   "version": "3.7.6"
  },
  "toc": {
   "base_numbering": 1,
   "nav_menu": {},
   "number_sections": true,
   "sideBar": true,
   "skip_h1_title": false,
   "title_cell": "Table of Contents",
   "title_sidebar": "Contents",
   "toc_cell": false,
   "toc_position": {
    "height": "calc(100% - 180px)",
    "left": "10px",
    "top": "150px",
    "width": "307.2px"
   },
   "toc_section_display": true,
   "toc_window_display": false
  },
  "varInspector": {
   "cols": {
    "lenName": 16,
    "lenType": 16,
    "lenVar": 40
   },
   "kernels_config": {
    "python": {
     "delete_cmd_postfix": "",
     "delete_cmd_prefix": "del ",
     "library": "var_list.py",
     "varRefreshCmd": "print(var_dic_list())"
    },
    "r": {
     "delete_cmd_postfix": ") ",
     "delete_cmd_prefix": "rm(",
     "library": "var_list.r",
     "varRefreshCmd": "cat(var_dic_list()) "
    }
   },
   "types_to_exclude": [
    "module",
    "function",
    "builtin_function_or_method",
    "instance",
    "_Feature"
   ],
   "window_display": false
  }
 },
 "nbformat": 4,
 "nbformat_minor": 4
}
