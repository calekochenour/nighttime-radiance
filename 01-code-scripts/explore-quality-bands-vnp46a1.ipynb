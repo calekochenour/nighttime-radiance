{
 "cells": [
  {
   "cell_type": "markdown",
   "metadata": {},
   "source": [
    "# VNP46A1 Quality Flag Bands Exploration\n",
    "\n",
    "Explores the QF_Cloud_Mask and QF_DNB bands in a VNP46A1 image.\n",
    "\n",
    "The tables in this Notebook are found in the [Black Marble User Guide Version 1.0](https://viirsland.gsfc.nasa.gov/PDF/VIIRS_BlackMarble_UserGuide.pdf).\n",
    "\n",
    "**QF_Cloud_Mask (base-10) (Adapted from User Guide p. 14):**\n",
    "\n",
    "| Bit | Flag Description Key                          | Interpretation                                                                            |\n",
    "|:-----|:-----------------------------------------------|:-------------------------------------------------------------------------------------------|\n",
    "| 0   | Day/Night                                     | 0 = Night <br> 1 = Day                                                                         |\n",
    "| 1-3 | Land/Water Background                         | 0 = Land & Desert <br> 1 = Land no Desert <br> 2 = Inland Water <br> 3 = Sea Water <br> 5 = Coastal |\n",
    "| 4-5 | Cloud Mask Quality                            | 0 = Poor <br> 1 = Low <br> 2 = Medium <br> 3 = High                                                  |\n",
    "| 6-7 | Cloud Detection Results & Confidence Indicator | 0 = Confident Clear <br> 1 = Probably Clear <br> 2 = Probably Cloudy <br> 3 = Confident Cloudy     |\n",
    "| 8   | Shadow Detected                               | 0 = No <br> 1 = Yes                                                                             |\n",
    "| 9   | Cirrus Detection (IR) (BTM15 –BTM16)          | 0 = No Cloud <br> 1 = Cloud                                                                   |\n",
    "| 10  | Snow/Ice Surface                              | 0 = No Snow/Ice <br> 1 = Snow/Ice                                                             |\n",
    "<br>\n",
    "\n",
    "**QF_DNB (base-10) (User Guide pp. 14-15)**:\n",
    "\n",
    "| Science Data Set | Flag Mask Value and Description|\n",
    "|:-----------|:-----------------------------------------------------------------------------------------------------------------------------------------------------------------------------------------------------------------------|\n",
    "| QF_DNB    | 1 &nbsp;&nbsp;&nbsp;&nbsp;&nbsp; = Substitute_Cal<br>2&nbsp;&nbsp;&nbsp;&nbsp;&nbsp;&nbsp; = Out_of_Range<br>4&nbsp;&nbsp;&nbsp;&nbsp;&nbsp;&nbsp; = Saturation<br>8&nbsp;&nbsp;&nbsp;&nbsp;&nbsp;&nbsp; = Temp_not_Nominal<br>16&nbsp;&nbsp;&nbsp;&nbsp; = Stray_Light<br>256&nbsp;&nbsp; = Bowtie_Deleted/Range_Bit<br>512&nbsp;&nbsp; = Missing_EV<br>1024 = Cal_Fail<br>2048 = Dead_Detector |"
   ]
  },
  {
   "cell_type": "markdown",
   "metadata": {},
   "source": [
    "# Environment Setup"
   ]
  },
  {
   "cell_type": "code",
   "execution_count": null,
   "metadata": {
    "ExecuteTime": {
     "end_time": "2020-12-03T16:37:17.814149Z",
     "start_time": "2020-12-03T16:37:17.657570Z"
    }
   },
   "outputs": [],
   "source": [
    "# Load Notebook formatter\n",
    "%load_ext nb_black\n",
    "# %reload_ext nb_black"
   ]
  },
  {
   "cell_type": "code",
   "execution_count": null,
   "metadata": {
    "ExecuteTime": {
     "end_time": "2020-12-03T16:37:19.316446Z",
     "start_time": "2020-12-03T16:37:17.817143Z"
    }
   },
   "outputs": [],
   "source": [
    "# Import packages\n",
    "import os\n",
    "import warnings\n",
    "import numpy as np\n",
    "import earthpy.plot as ep\n",
    "import viirs"
   ]
  },
  {
   "cell_type": "code",
   "execution_count": null,
   "metadata": {
    "ExecuteTime": {
     "end_time": "2020-12-03T16:37:19.328898Z",
     "start_time": "2020-12-03T16:37:19.319409Z"
    }
   },
   "outputs": [],
   "source": [
    "# Set options\n",
    "warnings.filterwarnings(\"ignore\")"
   ]
  },
  {
   "cell_type": "code",
   "execution_count": null,
   "metadata": {
    "ExecuteTime": {
     "end_time": "2020-12-03T16:37:19.345850Z",
     "start_time": "2020-12-03T16:37:19.331890Z"
    }
   },
   "outputs": [],
   "source": [
    "# Set working directory\n",
    "os.chdir(\"..\")\n",
    "print(f\"Working directory: {os.getcwd()}\")"
   ]
  },
  {
   "cell_type": "markdown",
   "metadata": {},
   "source": [
    "# Data Acquisition and Preprocessing"
   ]
  },
  {
   "cell_type": "code",
   "execution_count": null,
   "metadata": {
    "ExecuteTime": {
     "end_time": "2020-12-03T16:37:19.359847Z",
     "start_time": "2020-12-03T16:37:19.348843Z"
    }
   },
   "outputs": [],
   "source": [
    "# Set path to VNP46A1 test image (Jan 6, 2020, majority cloudy)\n",
    "hdf5_path = os.path.join(\n",
    "    \"02-raw-data\",\n",
    "    \"hdf\",\n",
    "    \"south-korea\",\n",
    "    \"VNP46A1.A2020006.h30v05.001.2020029061058.h5\",\n",
    ")"
   ]
  },
  {
   "cell_type": "code",
   "execution_count": null,
   "metadata": {
    "ExecuteTime": {
     "end_time": "2020-12-03T16:37:19.649042Z",
     "start_time": "2020-12-03T16:37:19.362805Z"
    }
   },
   "outputs": [],
   "source": [
    "# Extract DNB At-Sensor Radiance, QF CLoud Mask, and QF DNB bands\n",
    "dnb_at_sensor_radiance = viirs.extract_band_vnp46a1(\n",
    "    hdf5_path=hdf5_path, band_name=\"DNB_At_Sensor_Radiance_500m\"\n",
    ")\n",
    "qf_cloud_mask = viirs.extract_band_vnp46a1(\n",
    "    hdf5_path=hdf5_path, band_name=\"QF_Cloud_Mask\"\n",
    ")\n",
    "qf_dnb = viirs.extract_band_vnp46a1(hdf5_path=hdf5_path, band_name=\"QF_DNB\")"
   ]
  },
  {
   "cell_type": "code",
   "execution_count": null,
   "metadata": {
    "ExecuteTime": {
     "end_time": "2020-12-03T16:37:19.751779Z",
     "start_time": "2020-12-03T16:37:19.653029Z"
    }
   },
   "outputs": [],
   "source": [
    "# Show QF DNB bitmask unique values (within the single image)\n",
    "print(f\"QF DNB: {np.unique(qf_dnb)}\")"
   ]
  },
  {
   "cell_type": "code",
   "execution_count": null,
   "metadata": {
    "ExecuteTime": {
     "end_time": "2020-12-03T16:37:19.958230Z",
     "start_time": "2020-12-03T16:37:19.755755Z"
    }
   },
   "outputs": [],
   "source": [
    "# Extract QF Cloud Mask bitmasks\n",
    "day_night = viirs.extract_qa_bits(qf_cloud_mask, 0, 0)\n",
    "land_water_background = viirs.extract_qa_bits(qf_cloud_mask, 1, 3)\n",
    "cloud_mask_quality = viirs.extract_qa_bits(qf_cloud_mask, 4, 5)\n",
    "cloud_detection = viirs.extract_qa_bits(qf_cloud_mask, 6, 7)\n",
    "shadow_detected = viirs.extract_qa_bits(qf_cloud_mask, 8, 8)\n",
    "cirrus_detection = viirs.extract_qa_bits(qf_cloud_mask, 9, 9)\n",
    "snow_ice_surface = viirs.extract_qa_bits(qf_cloud_mask, 10, 10)"
   ]
  },
  {
   "cell_type": "code",
   "execution_count": null,
   "metadata": {
    "ExecuteTime": {
     "end_time": "2020-12-03T16:37:20.599568Z",
     "start_time": "2020-12-03T16:37:19.961205Z"
    }
   },
   "outputs": [],
   "source": [
    "# Show QF Cloud Mask bitmask unique values (within the single image)\n",
    "print(f\"Day/Night: {np.unique(day_night)}\")\n",
    "print(f\"Land/Water Background: {np.unique(land_water_background)}\")\n",
    "print(f\"Cloud Mask Quality: {np.unique(cloud_mask_quality)}\")\n",
    "print(f\"Coud Detection Results: {np.unique(cloud_detection)}\")\n",
    "print(f\"Shadow Detected: {np.unique(shadow_detected)}\")\n",
    "print(f\"Cirrus Detection: {np.unique(cirrus_detection)}\")\n",
    "print(f\"Snow/Ice Surface: {np.unique(snow_ice_surface)}\")"
   ]
  },
  {
   "cell_type": "code",
   "execution_count": null,
   "metadata": {
    "ExecuteTime": {
     "end_time": "2020-12-03T16:37:20.989044Z",
     "start_time": "2020-12-03T16:37:20.601564Z"
    }
   },
   "outputs": [],
   "source": [
    "# Create quality flag stack\n",
    "quality_flag_stack = viirs.stack_quality_flags_vnp46a1(vnp46a1_path=hdf5_path)\n",
    "print(\n",
    "    f\"Quality stack shape (bands, rows, columns): {quality_flag_stack.shape}\"\n",
    ")"
   ]
  },
  {
   "cell_type": "markdown",
   "metadata": {},
   "source": [
    "# Data Processing"
   ]
  },
  {
   "cell_type": "code",
   "execution_count": null,
   "metadata": {},
   "outputs": [],
   "source": []
  },
  {
   "cell_type": "markdown",
   "metadata": {},
   "source": [
    "# Data Postprocessing"
   ]
  },
  {
   "cell_type": "markdown",
   "metadata": {},
   "source": [
    "# Data Visualization"
   ]
  },
  {
   "cell_type": "markdown",
   "metadata": {},
   "source": [
    "## Radiance Image"
   ]
  },
  {
   "cell_type": "code",
   "execution_count": null,
   "metadata": {
    "ExecuteTime": {
     "end_time": "2020-12-03T16:37:21.877183Z",
     "start_time": "2020-12-03T16:37:20.991038Z"
    }
   },
   "outputs": [],
   "source": [
    "# Plot raw at-sensor radiance image (before preprocessing)\n",
    "radiance = ep.plot_bands(dnb_at_sensor_radiance, vmax=100)"
   ]
  },
  {
   "cell_type": "markdown",
   "metadata": {},
   "source": [
    "## Single QA Bands"
   ]
  },
  {
   "cell_type": "code",
   "execution_count": null,
   "metadata": {
    "ExecuteTime": {
     "end_time": "2020-12-03T16:37:22.505759Z",
     "start_time": "2020-12-03T16:37:21.879177Z"
    }
   },
   "outputs": [],
   "source": [
    "# Plot day/night bitmask\n",
    "fig, ax = viirs.plot_quality_flag_bitmask_single_band(\n",
    "    bitmask_array=day_night, bitmask_name=\"Day/Night\"\n",
    ")"
   ]
  },
  {
   "cell_type": "code",
   "execution_count": null,
   "metadata": {
    "ExecuteTime": {
     "end_time": "2020-12-03T16:37:23.130596Z",
     "start_time": "2020-12-03T16:37:22.508783Z"
    }
   },
   "outputs": [],
   "source": [
    "# Plot land/water background bitmask\n",
    "fig, ax = viirs.plot_quality_flag_bitmask_single_band(\n",
    "    bitmask_array=land_water_background, bitmask_name=\"Land/Water Background\"\n",
    ")"
   ]
  },
  {
   "cell_type": "code",
   "execution_count": null,
   "metadata": {
    "ExecuteTime": {
     "end_time": "2020-12-03T16:37:23.760460Z",
     "start_time": "2020-12-03T16:37:23.133589Z"
    }
   },
   "outputs": [],
   "source": [
    "# Plot cloud mask quality bitmask\n",
    "fig, ax = viirs.plot_quality_flag_bitmask_single_band(\n",
    "    bitmask_array=cloud_mask_quality, bitmask_name=\"Cloud Mask Quality\"\n",
    ")"
   ]
  },
  {
   "cell_type": "code",
   "execution_count": null,
   "metadata": {
    "ExecuteTime": {
     "end_time": "2020-12-03T16:37:24.416923Z",
     "start_time": "2020-12-03T16:37:23.763453Z"
    }
   },
   "outputs": [],
   "source": [
    "# Plot cloud detection bitmask\n",
    "fig, ax = viirs.plot_quality_flag_bitmask_single_band(\n",
    "    bitmask_array=cloud_detection, bitmask_name=\"Cloud Detection\"\n",
    ")"
   ]
  },
  {
   "cell_type": "code",
   "execution_count": null,
   "metadata": {
    "ExecuteTime": {
     "end_time": "2020-12-03T16:37:25.062995Z",
     "start_time": "2020-12-03T16:37:24.418885Z"
    }
   },
   "outputs": [],
   "source": [
    "# Plot shadow detected bitmask\n",
    "fig, ax = viirs.plot_quality_flag_bitmask_single_band(\n",
    "    bitmask_array=shadow_detected, bitmask_name=\"Shadow Detected\"\n",
    ")"
   ]
  },
  {
   "cell_type": "code",
   "execution_count": null,
   "metadata": {
    "ExecuteTime": {
     "end_time": "2020-12-03T16:37:25.677377Z",
     "start_time": "2020-12-03T16:37:25.066018Z"
    }
   },
   "outputs": [],
   "source": [
    "# Plot cirrus detection bitmask\n",
    "fig, ax = viirs.plot_quality_flag_bitmask_single_band(\n",
    "    bitmask_array=cirrus_detection, bitmask_name=\"Cirrus Detection\"\n",
    ")"
   ]
  },
  {
   "cell_type": "code",
   "execution_count": null,
   "metadata": {
    "ExecuteTime": {
     "end_time": "2020-12-03T16:37:26.288757Z",
     "start_time": "2020-12-03T16:37:25.679403Z"
    },
    "scrolled": false
   },
   "outputs": [],
   "source": [
    "# Plot snow/ice surface bitmask\n",
    "fig, ax = viirs.plot_quality_flag_bitmask_single_band(\n",
    "    bitmask_array=snow_ice_surface, bitmask_name=\"Snow/Ice Surface\"\n",
    ")"
   ]
  },
  {
   "cell_type": "code",
   "execution_count": null,
   "metadata": {
    "ExecuteTime": {
     "end_time": "2020-12-03T16:37:26.965656Z",
     "start_time": "2020-12-03T16:37:26.291735Z"
    },
    "scrolled": false
   },
   "outputs": [],
   "source": [
    "# Plot QF DNB bitmask\n",
    "fig, ax = viirs.plot_quality_flag_bitmask_single_band(\n",
    "    bitmask_array=qf_dnb, bitmask_name=\"QF DNB\"\n",
    ")"
   ]
  },
  {
   "cell_type": "markdown",
   "metadata": {},
   "source": [
    "## All QA Bands"
   ]
  },
  {
   "cell_type": "code",
   "execution_count": null,
   "metadata": {
    "ExecuteTime": {
     "end_time": "2020-12-03T16:37:31.664783Z",
     "start_time": "2020-12-03T16:37:26.967651Z"
    }
   },
   "outputs": [],
   "source": [
    "# Plot all quality flags\n",
    "fig, ax = viirs.plot_quality_flags_vnp46a1(quality_flag_stack)"
   ]
  },
  {
   "cell_type": "markdown",
   "metadata": {},
   "source": [
    "# Data Export"
   ]
  },
  {
   "cell_type": "code",
   "execution_count": null,
   "metadata": {},
   "outputs": [],
   "source": []
  }
 ],
 "metadata": {
  "hide_input": false,
  "kernelspec": {
   "display_name": "Python 3",
   "language": "python",
   "name": "python3"
  },
  "language_info": {
   "codemirror_mode": {
    "name": "ipython",
    "version": 3
   },
   "file_extension": ".py",
   "mimetype": "text/x-python",
   "name": "python",
   "nbconvert_exporter": "python",
   "pygments_lexer": "ipython3",
   "version": "3.7.6"
  },
  "toc": {
   "base_numbering": 1,
   "nav_menu": {},
   "number_sections": true,
   "sideBar": true,
   "skip_h1_title": false,
   "title_cell": "Table of Contents",
   "title_sidebar": "Contents",
   "toc_cell": false,
   "toc_position": {},
   "toc_section_display": true,
   "toc_window_display": true
  },
  "varInspector": {
   "cols": {
    "lenName": 16,
    "lenType": 16,
    "lenVar": 40
   },
   "kernels_config": {
    "python": {
     "delete_cmd_postfix": "",
     "delete_cmd_prefix": "del ",
     "library": "var_list.py",
     "varRefreshCmd": "print(var_dic_list())"
    },
    "r": {
     "delete_cmd_postfix": ") ",
     "delete_cmd_prefix": "rm(",
     "library": "var_list.r",
     "varRefreshCmd": "cat(var_dic_list()) "
    }
   },
   "types_to_exclude": [
    "module",
    "function",
    "builtin_function_or_method",
    "instance",
    "_Feature"
   ],
   "window_display": false
  }
 },
 "nbformat": 4,
 "nbformat_minor": 4
}
