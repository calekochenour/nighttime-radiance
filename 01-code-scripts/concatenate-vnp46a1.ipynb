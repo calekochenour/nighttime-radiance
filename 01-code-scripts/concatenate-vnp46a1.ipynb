{
 "cells": [
  {
   "cell_type": "markdown",
   "metadata": {},
   "source": [
    "# Introduction\n",
    "\n",
    "Concatenates already-preprocessed VNP46A1 GeoTiff files that are spatially adjacent in the longitudinal direction and exports single GeoTiff files containing the concatenated data. Used in cases when a study area bounding box intersects two VNP46A1 grid cells (.e.g. `VNP46A1.A2020001.h30v05.001.2020004003738.h5` and `VNP46A1.A2020001.h31v05.001.2020004003738.h5` for raw files and `vnp46a1-a2020001-h30v05-001-2020004003738.tif` and `vnp46a1-a2020001-h31v05-001-2020004003841.tif` for already-preprocessed files).\n",
    "\n",
    "This Notebook uses the following folder structure:\n",
    "\n",
    "* `nighttime-radiance/`\n",
    "    * `01-code-scripts/`\n",
    "    * `02-raw-data/`\n",
    "    * `03-processed-data/`\n",
    "    * `04-graphics-outputs/`\n",
    "    * `05-papers-writings/`\n",
    "\n",
    "Running the Notebook from the `01-code-scripts/` folder works by default. If the Notebook runs from a different folder, the paths in the environment setup section may have to be changed.\n",
    "\n",
    "This notebook uses files that have alrady been preprocessed and saved to GeoTiff files."
   ]
  },
  {
   "cell_type": "markdown",
   "metadata": {},
   "source": [
    "# Environment Setup"
   ]
  },
  {
   "cell_type": "code",
   "execution_count": null,
   "metadata": {
    "ExecuteTime": {
     "end_time": "2020-10-27T22:39:17.052487Z",
     "start_time": "2020-10-27T22:39:16.914854Z"
    }
   },
   "outputs": [],
   "source": [
    "# Load Notebook formatter\n",
    "%load_ext nb_black\n",
    "# %reload_ext nb_black"
   ]
  },
  {
   "cell_type": "code",
   "execution_count": null,
   "metadata": {
    "ExecuteTime": {
     "end_time": "2020-10-27T22:39:19.170826Z",
     "start_time": "2020-10-27T22:39:17.211063Z"
    }
   },
   "outputs": [],
   "source": [
    "# Import packages\n",
    "import os\n",
    "import warnings\n",
    "import glob\n",
    "import viirs"
   ]
  },
  {
   "cell_type": "code",
   "execution_count": null,
   "metadata": {
    "ExecuteTime": {
     "end_time": "2020-10-27T22:39:19.205734Z",
     "start_time": "2020-10-27T22:39:19.194764Z"
    }
   },
   "outputs": [],
   "source": [
    "# Set options\n",
    "warnings.simplefilter(\"ignore\")"
   ]
  },
  {
   "cell_type": "code",
   "execution_count": null,
   "metadata": {
    "ExecuteTime": {
     "end_time": "2020-10-27T22:39:19.237650Z",
     "start_time": "2020-10-27T22:39:19.228671Z"
    }
   },
   "outputs": [],
   "source": [
    "# Set working directory\n",
    "os.chdir(\"..\")"
   ]
  },
  {
   "cell_type": "markdown",
   "metadata": {},
   "source": [
    "# User-Defined Variables"
   ]
  },
  {
   "cell_type": "code",
   "execution_count": null,
   "metadata": {
    "ExecuteTime": {
     "end_time": "2020-10-27T22:39:20.380685Z",
     "start_time": "2020-10-27T22:39:20.366721Z"
    }
   },
   "outputs": [],
   "source": [
    "# Define path to folder containing preprocessed VNP46A1 GeoTiff files\n",
    "geotiff_input_folder = os.path.join(\n",
    "    \"03-processed-data\", \"raster\", \"south-korea\", \"vnp46a1-grid\"\n",
    ")\n",
    "\n",
    "# Defne path to output folder to store concatenated, exported GeoTiff files\n",
    "geotiff_output_folder = os.path.join(\n",
    "    \"03-processed-data\", \"raster\", \"south-korea\", \"vnp46a1-grid-concatenated\"\n",
    ")"
   ]
  },
  {
   "cell_type": "markdown",
   "metadata": {},
   "source": [
    "# Data Preprocessing"
   ]
  },
  {
   "cell_type": "code",
   "execution_count": null,
   "metadata": {
    "ExecuteTime": {
     "end_time": "2020-10-27T22:39:30.749369Z",
     "start_time": "2020-10-27T22:39:28.097429Z"
    }
   },
   "outputs": [],
   "source": [
    "# Concatenate and export adjacent images that have the same acquisition date\n",
    "dates = viirs.create_date_range(start_date=\"2020-01-01\", end_date=\"2020-01-05\")\n",
    "for date in dates:\n",
    "    adjacent_images = []\n",
    "    for file in glob.glob(os.path.join(geotiff_input_folder, \"*.tif\")):\n",
    "        if date in viirs.extract_date_vnp46a1(geotiff_path=file):\n",
    "            adjacent_images.append(file)\n",
    "    adjacent_images_sorted = sorted(adjacent_images)\n",
    "    if len(adjacent_images_sorted) == 2:\n",
    "        viirs.concatenate_preprocessed_vnp46a1(\n",
    "            west_geotiff_path=adjacent_images_sorted[0],\n",
    "            east_geotiff_path=adjacent_images_sorted[1],\n",
    "            output_folder=geotiff_output_folder,\n",
    "        )"
   ]
  }
 ],
 "metadata": {
  "hide_input": false,
  "kernelspec": {
   "display_name": "Python 3",
   "language": "python",
   "name": "python3"
  },
  "language_info": {
   "codemirror_mode": {
    "name": "ipython",
    "version": 3
   },
   "file_extension": ".py",
   "mimetype": "text/x-python",
   "name": "python",
   "nbconvert_exporter": "python",
   "pygments_lexer": "ipython3",
   "version": "3.7.6"
  },
  "toc": {
   "base_numbering": 1,
   "nav_menu": {},
   "number_sections": true,
   "sideBar": true,
   "skip_h1_title": false,
   "title_cell": "Table of Contents",
   "title_sidebar": "Contents",
   "toc_cell": false,
   "toc_position": {
    "height": "calc(100% - 180px)",
    "left": "10px",
    "top": "150px",
    "width": "307.2px"
   },
   "toc_section_display": true,
   "toc_window_display": false
  },
  "varInspector": {
   "cols": {
    "lenName": 16,
    "lenType": 16,
    "lenVar": 40
   },
   "kernels_config": {
    "python": {
     "delete_cmd_postfix": "",
     "delete_cmd_prefix": "del ",
     "library": "var_list.py",
     "varRefreshCmd": "print(var_dic_list())"
    },
    "r": {
     "delete_cmd_postfix": ") ",
     "delete_cmd_prefix": "rm(",
     "library": "var_list.r",
     "varRefreshCmd": "cat(var_dic_list()) "
    }
   },
   "types_to_exclude": [
    "module",
    "function",
    "builtin_function_or_method",
    "instance",
    "_Feature"
   ],
   "window_display": false
  }
 },
 "nbformat": 4,
 "nbformat_minor": 4
}
