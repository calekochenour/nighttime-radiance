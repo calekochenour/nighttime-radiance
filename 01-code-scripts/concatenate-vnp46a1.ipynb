{
 "cells": [
  {
   "cell_type": "markdown",
   "metadata": {},
   "source": [
    "# Introduction\n",
    "\n",
    "Concatenates and exports VNP46A1 HDF5 files that are spatially adjacent in the longitudinal direction. Used in cases when your study area bounding box intersects two VNP46A1 grid cells (.e.g. `VNP46A1.A2020001.h30v05.001.2020004003738.h5` and `VNP46A1.A2020001.h31v05.001.2020004003738.h5`)\n",
    "\n",
    "This Notebook uses the following folder structure:\n",
    "\n",
    "* `nighttime-radiance/`\n",
    "    * `01-code-scripts/`\n",
    "    * `02-raw-data/`\n",
    "    * `03-processed-data/`\n",
    "    * `04-graphics-outputs/`\n",
    "    * `05-papers-writings/`\n",
    "\n",
    "Running the Notebook from the `01-code-scripts/` folder works by default. If the Notebook runs from a different folder, the paths in the environment setup section may have to be changed.\n",
    "\n",
    "This notebook uses files that have alrady been preprocessed and saved to GeoTiff files."
   ]
  },
  {
   "cell_type": "markdown",
   "metadata": {},
   "source": [
    "# Environment Setup"
   ]
  },
  {
   "cell_type": "code",
   "execution_count": null,
   "metadata": {
    "ExecuteTime": {
     "end_time": "2020-10-27T21:11:38.809820Z",
     "start_time": "2020-10-27T21:11:38.645260Z"
    }
   },
   "outputs": [],
   "source": [
    "# Load Notebook formatter\n",
    "%load_ext nb_black\n",
    "# %reload_ext nb_black"
   ]
  },
  {
   "cell_type": "code",
   "execution_count": null,
   "metadata": {
    "ExecuteTime": {
     "end_time": "2020-10-27T21:11:41.417369Z",
     "start_time": "2020-10-27T21:11:38.907559Z"
    }
   },
   "outputs": [],
   "source": [
    "# Import packages\n",
    "import os\n",
    "import warnings\n",
    "import glob\n",
    "import datetime as dt\n",
    "import pandas as pd\n",
    "import rasterio as rio\n",
    "from rasterio.transform import from_origin\n",
    "import viirs"
   ]
  },
  {
   "cell_type": "code",
   "execution_count": null,
   "metadata": {
    "ExecuteTime": {
     "end_time": "2020-10-27T21:11:41.456824Z",
     "start_time": "2020-10-27T21:11:41.446293Z"
    }
   },
   "outputs": [],
   "source": [
    "# Set options\n",
    "warnings.simplefilter(\"ignore\")"
   ]
  },
  {
   "cell_type": "code",
   "execution_count": null,
   "metadata": {
    "ExecuteTime": {
     "end_time": "2020-10-27T21:11:41.490733Z",
     "start_time": "2020-10-27T21:11:41.481769Z"
    }
   },
   "outputs": [],
   "source": [
    "# Set working directory\n",
    "os.chdir(\"..\")"
   ]
  },
  {
   "cell_type": "markdown",
   "metadata": {},
   "source": [
    "# User-Defined Variables"
   ]
  },
  {
   "cell_type": "code",
   "execution_count": null,
   "metadata": {
    "ExecuteTime": {
     "end_time": "2020-10-27T21:11:42.851061Z",
     "start_time": "2020-10-27T21:11:42.837085Z"
    }
   },
   "outputs": [],
   "source": [
    "# Define path to folder containing preprocessed VNP46A1 GeoTiff files\n",
    "geotiff_input_folder = os.path.join(\n",
    "    \"03-processed-data\", \"raster\", \"south-korea\", \"vnp46a1-grid\"\n",
    ")\n",
    "\n",
    "# Defne path to output folder to store concatenated, exported GeoTiff files\n",
    "geotiff_output_folder = os.path.join(\n",
    "    \"03-processed-data\", \"raster\", \"south-korea\", \"vnp46a1-grid-concatenated\"\n",
    ")"
   ]
  },
  {
   "cell_type": "markdown",
   "metadata": {},
   "source": [
    "# Data Preprocessing"
   ]
  },
  {
   "cell_type": "markdown",
   "metadata": {},
   "source": [
    "Workflow:\n",
    "\n",
    "* Get list of GeoTiff files\n",
    "* Get list of dates to process\n",
    "* Get bounding box of left-most file\n",
    "* Get bounding box of right-most-file\n",
    "* Specify the h values (30 and 31?)\n",
    "* For each GeoTiff File (loop through dates and glob based on date, DONT loop through files, less efficient)\n",
    "    * Extract transform (or get bounding box)\n",
    "    * For each date\n",
    "        * If date matches date in file name\n",
    "            * Read geotiff into NumPy array\n",
    "            * Add array to list (should result in list of 2 files, same vertical, different horizontal)\n",
    "        * Sort list of 2 (so that left-most horizontal will be indexed at 0\n",
    "        * Add list of two to dictionary, indexed by [Year][Month][Day] or [YearMonthDay]\n",
    "\n",
    "\n",
    "* For each dictionary key/value\n",
    "    * NumPy concatenate across the 1-axis (horizontal)\n",
    "    * Store concatenated array in new dictionary, indexed by [Year][Month][Day] or [YearMonthDay]\n",
    "    \n",
    "    \n",
    "* Create transform from bounding box\n",
    "* Set export file name \n",
    "    * `vnp46a1-a2020001-h3031v05-001-2020004003738.tif`\n",
    "* Create metadata\n",
    "* Export\n",
    "    \n",
    "What about cases where there is only 1 image?\n"
   ]
  },
  {
   "cell_type": "code",
   "execution_count": null,
   "metadata": {
    "ExecuteTime": {
     "end_time": "2020-10-27T21:11:46.573301Z",
     "start_time": "2020-10-27T21:11:46.556328Z"
    }
   },
   "outputs": [],
   "source": [
    "# Get list of dates from a range (test with single date)\n",
    "dates = [\n",
    "    dt.datetime.strftime(date, \"%Y%m%d\")\n",
    "    for date in pd.date_range(start=\"2020-01-01\", end=\"2020-01-05\")\n",
    "]\n",
    "\n",
    "dates"
   ]
  },
  {
   "cell_type": "code",
   "execution_count": null,
   "metadata": {
    "ExecuteTime": {
     "end_time": "2020-10-27T21:11:48.105402Z",
     "start_time": "2020-10-27T21:11:48.092438Z"
    }
   },
   "outputs": [],
   "source": [
    "def read_geotiff_into_array(geotiff_path, dimensions=1):\n",
    "    \"\"\"Reads a GeoTif file into a NumPy array.\n",
    "\n",
    "    Parameters\n",
    "    ----------\n",
    "    geotiff_path : str\n",
    "        Path to the GeoTiff file.\n",
    "\n",
    "    dimensions : int, optional\n",
    "        Number of bands to read in. Default value is 1.\n",
    "\n",
    "    Returns\n",
    "    -------\n",
    "    array : numpy array\n",
    "        Array containing the data.\n",
    "\n",
    "    Example\n",
    "    -------\n",
    "        >>>\n",
    "        >>>\n",
    "        >>>\n",
    "        >>>\n",
    "    \"\"\"\n",
    "    # Read-in array\n",
    "    with rio.open(geotiff_path) as src:\n",
    "        array = src.read(dimensions)\n",
    "\n",
    "    return array"
   ]
  },
  {
   "cell_type": "code",
   "execution_count": null,
   "metadata": {
    "ExecuteTime": {
     "end_time": "2020-10-27T21:11:49.670082Z",
     "start_time": "2020-10-27T21:11:49.659099Z"
    }
   },
   "outputs": [],
   "source": [
    "def extract_geotiff_bounding_box(geotiff_path):\n",
    "    \"\"\"Extracts the bounding box from a GeoTiff file.\n",
    "\n",
    "    Parameters\n",
    "    ----------\n",
    "    geotiff_path : str\n",
    "        Path to the GeoTiff file.\n",
    "\n",
    "    Returns\n",
    "    -------\n",
    "    bounding_box : rasterio.coords.BoundingBox\n",
    "        Bounding box for the GeoTiff\n",
    "\n",
    "    Example\n",
    "    -------\n",
    "        >>>\n",
    "        >>>\n",
    "        >>>\n",
    "        >>>\n",
    "    \"\"\"\n",
    "    # Extract bounding box\n",
    "    with rio.open(geotiff_path) as src:\n",
    "        bounding_box = src.bounds\n",
    "\n",
    "    return bounding_box"
   ]
  },
  {
   "cell_type": "code",
   "execution_count": null,
   "metadata": {
    "ExecuteTime": {
     "end_time": "2020-10-27T21:11:49.926505Z",
     "start_time": "2020-10-27T21:11:49.908552Z"
    }
   },
   "outputs": [],
   "source": [
    "def extract_date_vnp46a1(geotiff_path):\n",
    "    \"\"\"Extracts the file date from a preprocessed VNP46A1 GeoTiff.\n",
    "    \n",
    "    Parameters\n",
    "    ----------\n",
    "    geotiff_path : str\n",
    "        Path to the GeoTiff file.\n",
    "    \n",
    "    Returns\n",
    "    -------\n",
    "    date : str\n",
    "        Acquisition date of the preprocessed VNP46A1 GeoTiff.\n",
    "    \n",
    "    Example\n",
    "    -------\n",
    "        >>>\n",
    "        >>>\n",
    "        >>>\n",
    "        >>>\n",
    "    \"\"\"\n",
    "    # Get date (convert YYYYJJJ to YYYYMMDD)\n",
    "    date = dt.datetime.strptime(os.path.basename(file)[9:16], \"%Y%j\").strftime(\n",
    "        \"%Y%m%d\"\n",
    "    )\n",
    "\n",
    "    return date"
   ]
  },
  {
   "cell_type": "code",
   "execution_count": null,
   "metadata": {
    "ExecuteTime": {
     "end_time": "2020-10-27T21:11:50.176834Z",
     "start_time": "2020-10-27T21:11:50.156887Z"
    }
   },
   "outputs": [],
   "source": [
    "def create_concatenated_export_name(west_image_path, east_image_path):\n",
    "    \"\"\"Creates a file name indicating the concatenation of adjacent two files.\n",
    "    \n",
    "    Paramaters\n",
    "    ----------\n",
    "    west_image_path : str\n",
    "        Path to the West-most image.\n",
    "        \n",
    "    east_image_past : str\n",
    "        Path to the East-most image.\n",
    "        \n",
    "    Returns\n",
    "    -------\n",
    "    export_name : str\n",
    "        New file name for export, indicating concatenation.\n",
    "    \n",
    "    Example\n",
    "    -------\n",
    "        >>>\n",
    "        >>>\n",
    "        >>>\n",
    "        >>>\n",
    "    \"\"\"\n",
    "    # Extract the horizontal grid numbers from the West and East images\n",
    "    west_image_horizontal_grid_number, east_image_horizontal_grid_number = (\n",
    "        os.path.basename(west_image_path)[18:20],\n",
    "        os.path.basename(east_image_path)[18:20],\n",
    "    )\n",
    "\n",
    "    # Replace the specific date/time with YYYYJJJ and the single horizontal\n",
    "    #  grid number with both the West and East numbers\n",
    "    export_name = (\n",
    "        os.path.basename(west_image_path)\n",
    "        .replace(os.path.basename(west_image_path)[35:41], \"\")\n",
    "        .replace(\n",
    "            west_image_horizontal_grid_number,\n",
    "            west_image_horizontal_grid_number\n",
    "            + east_image_horizontal_grid_number,\n",
    "        )\n",
    "    )\n",
    "\n",
    "    return export_name"
   ]
  },
  {
   "cell_type": "code",
   "execution_count": null,
   "metadata": {
    "ExecuteTime": {
     "end_time": "2020-10-27T21:11:51.836945Z",
     "start_time": "2020-10-27T21:11:51.779099Z"
    }
   },
   "outputs": [],
   "source": [
    "def concatenate_preprocessed_vnp46a1(\n",
    "    west_geotiff_path, east_geotiff_path, output_folder\n",
    "):\n",
    "    \"\"\"Concatenates horizontally-adjacent preprocessed VNP46A1 GeoTiff \n",
    "    file and exports the concatenated array to a single GeoTiff.\n",
    "    \n",
    "    Paramaters\n",
    "    ----------\n",
    "    west_geotiff_path : str\n",
    "        Path to the West-most GeoTiff.\n",
    "        \n",
    "    east_geotiff_path : str\n",
    "        Path to the East-most GeoTiff.\n",
    "        \n",
    "    output_folder : str\n",
    "        Path to the folder where the concatenated file will be \n",
    "        exported to.\n",
    "\n",
    "    Returns\n",
    "    -------\n",
    "    message : str\n",
    "        Indication of concatenation completion status (success \n",
    "        or failure).\n",
    "\n",
    "    Example\n",
    "    -------\n",
    "        >>>\n",
    "        >>>\n",
    "        >>>\n",
    "        >>>\n",
    "    \"\"\"\n",
    "    # Concatenate adjacent VNP46A1 GeoTiff files\n",
    "    print(\n",
    "        (\n",
    "            f\"Started concatenating:\\n    \"\n",
    "            f\"{os.path.basename(west_geotiff_path)}\\n    \"\n",
    "            f\"{os.path.basename(east_geotiff_path)}\"\n",
    "        )\n",
    "    )\n",
    "\n",
    "    try:\n",
    "        print(\"Concatenating West and East arrays...\")\n",
    "        # Concatenate West and East images along the 1-axis\n",
    "        concatenated = np.concatenate(\n",
    "            (\n",
    "                read_geotiff_into_array(geotiff_path=west_geotiff_path),\n",
    "                read_geotiff_into_array(geotiff_path=east_geotiff_path),\n",
    "            ),\n",
    "            axis=1,\n",
    "        )\n",
    "\n",
    "        print(\"Getting bounding box information...\")\n",
    "        # Get bounding box (left, top, bottom) from west image and\n",
    "        #  (right) from east image\n",
    "        longitude_min = extract_geotiff_bounding_box(\n",
    "            geotiff_path=west_geotiff_path\n",
    "        ).left\n",
    "        longitude_max = extract_geotiff_bounding_box(\n",
    "            geotiff_path=east_geotiff_path\n",
    "        ).right\n",
    "        latitude_min = extract_geotiff_bounding_box(\n",
    "            geotiff_path=west_geotiff_path\n",
    "        ).bottom\n",
    "        latitude_max = extract_geotiff_bounding_box(\n",
    "            geotiff_path=west_geotiff_path\n",
    "        ).top\n",
    "\n",
    "        print(\"Creating transform...\")\n",
    "        # Set transform (west bound, north bound, x cell size, y cell size)\n",
    "        concatenated_transform = from_origin(\n",
    "            longitude_min,\n",
    "            latitude_max,\n",
    "            (longitude_max - longitude_min) / concatenated.shape[1],\n",
    "            (latitude_max - latitude_min) / concatenated.shape[0],\n",
    "        )\n",
    "\n",
    "        print(\"Creating metadata...\")\n",
    "        # Create metadata for GeoTiff export\n",
    "        metadata = viirs.create_metadata(\n",
    "            array=concatenated,\n",
    "            transform=concatenated_transform,\n",
    "            driver=\"GTiff\",\n",
    "            nodata=np.nan,\n",
    "            count=1,\n",
    "            crs=\"epsg:4326\",\n",
    "        )\n",
    "\n",
    "        print(\"Setting file export name...\")\n",
    "        # Get name for the exported file\n",
    "        export_name = create_concatenated_export_name(\n",
    "            west_image_path=west_geotiff_path,\n",
    "            east_image_path=east_geotiff_path,\n",
    "        )\n",
    "\n",
    "        print(\"Exporting to GeoTiff...\")\n",
    "        # Export concatenated array\n",
    "        viirs.export_array(\n",
    "            array=concatenated,\n",
    "            output_path=os.path.join(output_folder, export_name),\n",
    "            metadata=metadata,\n",
    "        )\n",
    "    except Exception as error:\n",
    "        message = print(f\"Concatenating failed: {error}\")\n",
    "    else:\n",
    "        message = print(\n",
    "            (\n",
    "                f\"Completed concatenating:\\n    \"\n",
    "                f\"{os.path.basename(west_geotiff_path)}\\n    \"\n",
    "                f\"{os.path.basename(east_geotiff_path)}\\n\\n\"\n",
    "            )\n",
    "        )\n",
    "\n",
    "    return message"
   ]
  },
  {
   "cell_type": "code",
   "execution_count": null,
   "metadata": {
    "ExecuteTime": {
     "end_time": "2020-10-27T21:11:56.378518Z",
     "start_time": "2020-10-27T21:11:53.779587Z"
    }
   },
   "outputs": [],
   "source": [
    "# Loop through all dates specified GeoTiff files\n",
    "for date in dates:\n",
    "    adjacent_images = []\n",
    "    for file in glob.glob(os.path.join(geotiff_input_folder, \"*.tif\")):\n",
    "        # Add images to list where the looped date matches the file date\n",
    "        if date in extract_date_vnp46a1(geotiff_path=file):\n",
    "            adjacent_images.append(file)\n",
    "    # Ensure index 0 is West-most image and index 1 is East-most image\n",
    "    adjacent_images_sorted = sorted(adjacent_images)\n",
    "    # Concatenate and export to GeoTiff if there are two images (same date)\n",
    "    if len(adjacent_images_sorted) is 2:\n",
    "        concatenate_preprocessed_vnp46a1(\n",
    "            west_geotiff_path=adjacent_images_sorted[0],\n",
    "            east_geotiff_path=adjacent_images_sorted[1],\n",
    "            output_folder=geotiff_output_folder,\n",
    "        )"
   ]
  },
  {
   "cell_type": "code",
   "execution_count": null,
   "metadata": {
    "ExecuteTime": {
     "end_time": "2020-10-27T20:37:09.251540Z",
     "start_time": "2020-10-27T20:37:06.780122Z"
    }
   },
   "outputs": [],
   "source": [
    "# Concatenate same-day images\n",
    "for date in dates:\n",
    "    adjacent_images = []\n",
    "    for file in glob.glob(os.path.join(geotiff_input_folder, \"*.tif\")):\n",
    "        # Extract acquisition date\n",
    "        file_date = extract_date_vnp46a1(geotiff_path=file)\n",
    "        # Add adjacent images to the list\n",
    "        if date in file_date:\n",
    "            adjacent_images.append(file)\n",
    "    # Ensure index 0 is left-most image and index 1 is right-most image\n",
    "    adjacent_images_sorted = sorted(adjacent_images)\n",
    "    # Concatenate if there are two images\n",
    "    if len(adjacent_images_sorted) is 2:\n",
    "        # Concatenate West and East images along the 1-axis\n",
    "        concatenated = np.concatenate(\n",
    "            (\n",
    "                read_geotiff_into_array(\n",
    "                    geotiff_path=adjacent_images_sorted[0]\n",
    "                ),\n",
    "                read_geotiff_into_array(\n",
    "                    geotiff_path=adjacent_images_sorted[1]\n",
    "                ),\n",
    "            ),\n",
    "            axis=1,\n",
    "        )\n",
    "\n",
    "        # Get bounding box (left, top, bottom) from west image and\n",
    "        #  (right) from east image\n",
    "        longitude_min = extract_geotiff_bounding_box(\n",
    "            geotiff_path=adjacent_images_sorted[0]\n",
    "        ).left\n",
    "        longitude_max = extract_geotiff_bounding_box(\n",
    "            geotiff_path=adjacent_images_sorted[1]\n",
    "        ).right\n",
    "        latitude_min = extract_geotiff_bounding_box(\n",
    "            geotiff_path=adjacent_images_sorted[0]\n",
    "        ).bottom\n",
    "        latitude_max = extract_geotiff_bounding_box(\n",
    "            geotiff_path=adjacent_images_sorted[0]\n",
    "        ).top\n",
    "\n",
    "        # Set transform (west bound, north bound, x cell size, y cell size)\n",
    "        concatenated_transform = from_origin(\n",
    "            longitude_min,\n",
    "            latitude_max,\n",
    "            (longitude_max - longitude_min) / concatenated.shape[1],\n",
    "            (latitude_max - latitude_min) / concatenated.shape[0],\n",
    "        )\n",
    "\n",
    "        # Create metadata for GeoTiff export\n",
    "        metadata = viirs.create_metadata(\n",
    "            array=concatenated,\n",
    "            transform=concatenated_transform,\n",
    "            driver=\"GTiff\",\n",
    "            nodata=np.nan,\n",
    "            count=1,\n",
    "            crs=\"epsg:4326\",\n",
    "        )\n",
    "\n",
    "        # Get name for the exported file\n",
    "        export_name = create_concatenated_export_name(\n",
    "            west_image_path=adjacent_images_sorted[0],\n",
    "            east_image_path=adjacent_images_sorted[1],\n",
    "        )\n",
    "\n",
    "        # Export concatenated array\n",
    "        viirs.export_array(\n",
    "            array=concatenated,\n",
    "            output_path=os.path.join(geotiff_output_folder, export_name),\n",
    "            metadata=metadata,\n",
    "        )"
   ]
  },
  {
   "cell_type": "code",
   "execution_count": null,
   "metadata": {
    "ExecuteTime": {
     "end_time": "2020-10-26T22:56:57.151347Z",
     "start_time": "2020-10-26T22:56:54.623473Z"
    },
    "scrolled": true
   },
   "outputs": [],
   "source": [
    "# Identify same-day images\n",
    "for date in dates:\n",
    "    adjacent_images = []\n",
    "    for file in glob.glob(os.path.join(geotiff_input_folder, \"*.tif\")):\n",
    "        # Extract file name\n",
    "        #         file_name = os.path.basename(file)\n",
    "        # Extract file date (Julian day to YYYYMMDD)\n",
    "        file_date = dt.datetime.strptime(\n",
    "            os.path.basename(file)[9:16], \"%Y%j\"\n",
    "        ).strftime(\"%Y%m%d\")\n",
    "        # Add adjacent images to the list\n",
    "        if date in file_date:\n",
    "            adjacent_images.append(file)\n",
    "    # Ensure index 0 is left-most image and index 1 is right-most image\n",
    "    adjacent_images_sorted = sorted(adjacent_images)\n",
    "    # Concatenate if there are two images\n",
    "    if len(adjacent_images_sorted) is 2:\n",
    "        # Read left and right images into arrays - MAKE THIS A FUNCTION\n",
    "        with rio.open(adjacent_images_sorted[0]) as src:\n",
    "            left_image_arr = src.read(1)\n",
    "            left_image_bounds = src.bounds\n",
    "            left_image_metadata = src.meta\n",
    "        with rio.open(adjacent_images_sorted[1]) as src:\n",
    "            right_image_arr = src.read(1)\n",
    "            right_image_bounds = src.bounds\n",
    "            right_image_metadata = src.meta\n",
    "            \n",
    "        # Concatenate image along the 1-axis\n",
    "        concatenated = np.concatenate(\n",
    "            (left_image_arr, right_image_arr), axis=1\n",
    "        )\n",
    "\n",
    "        # Get bounding box (left, top, bottom) from left image and (right) from right image\n",
    "        longitude_min, longitude_max, latitude_min, latitude_max = (\n",
    "            left_image_bounds.left,\n",
    "            right_image_bounds.right,\n",
    "            left_image_bounds.bottom,\n",
    "            left_image_bounds.top,\n",
    "        )\n",
    "\n",
    "        # Get number of rows and columns\n",
    "        num_rows, num_columns = concatenated.shape[0], concatenated.shape[1]\n",
    "\n",
    "        # Set transform (top-left corner, cell size)\n",
    "        concatenated_transform = from_origin(\n",
    "            longitude_min,\n",
    "            latitude_max,\n",
    "            (longitude_max - longitude_min) / num_columns,\n",
    "            (latitude_max - latitude_min) / num_rows,\n",
    "        )\n",
    "\n",
    "        # Create metadata for GeoTiff export\n",
    "        metadata = viirs.create_metadata(\n",
    "            array=concatenated,\n",
    "            transform=concatenated_transform,\n",
    "            driver=\"GTiff\",\n",
    "            nodata=np.nan,\n",
    "            count=1,\n",
    "            crs=\"epsg:4326\",\n",
    "        )\n",
    "\n",
    "        # Export array - MAKE THIS A FUNCTION\n",
    "        # Extract the horizontal grid numbers from the left and right images\n",
    "        left_image_horizontal_grid, right_image_horizontal_grid = (\n",
    "            os.path.basename(adjacent_images[0])[18:20],\n",
    "            os.path.basename(adjacent_images[1])[18:20],\n",
    "        )\n",
    "        # Replace the single horizontal grid number with both left and right\n",
    "        export_name = (\n",
    "            os.path.basename(adjacent_images[0])\n",
    "            .replace(os.path.basename(adjacent_images[0])[35:41], \"\")\n",
    "            .replace(\n",
    "                left_image_horizontal_grid,\n",
    "                left_image_horizontal_grid + right_image_horizontal_grid,\n",
    "            )\n",
    "        )\n",
    "        \n",
    "        # Export concatenated array\n",
    "        viirs.export_array(\n",
    "            array=concatenated,\n",
    "            output_path=os.path.join(geotiff_output_folder, export_name),\n",
    "            metadata=metadata,\n",
    "        )"
   ]
  },
  {
   "cell_type": "markdown",
   "metadata": {},
   "source": [
    "Use the below structure for these files. Main preprocessing function with helper functions that act on each file (in this case, each pair of files acquired on the same date."
   ]
  },
  {
   "cell_type": "code",
   "execution_count": null,
   "metadata": {
    "ExecuteTime": {
     "end_time": "2020-10-24T22:04:53.533901Z",
     "start_time": "2020-10-24T22:04:46.124736Z"
    },
    "scrolled": true
   },
   "outputs": [],
   "source": [
    "# Preprocess each HDF5 file (extract bands, mask for fill values, clouds, and\n",
    "#  sensor problems, fill masked values with NaN, export to GeoTiff)\n",
    "hdf5_files = glob.glob(os.path.join(hdf5_input_folder, \"*.h5\"))\n",
    "processed_files = 0\n",
    "total_files = len(hdf5_files)\n",
    "for hdf5 in hdf5_files:\n",
    "    viirs.preprocess_vnp46a1(\n",
    "        hdf5_path=hdf5, output_folder=geotiff_output_folder\n",
    "    )\n",
    "    processed_files += 1\n",
    "    print(f\"Preprocessed file: {processed_files} of {total_files}\\n\\n\")"
   ]
  },
  {
   "cell_type": "markdown",
   "metadata": {},
   "source": [
    "# Notes and References"
   ]
  },
  {
   "cell_type": "markdown",
   "metadata": {},
   "source": [
    "**File download:**\n",
    "\n",
    "VNP46A1 HDF5 files were first downloaded using the `01-code-scripts/download_laads_order.py` script. This script requires a user to have a valid [NASA Earthdata](https://urs.earthdata.nasa.gov/) account and have placed an order for files.\n",
    "\n",
    "<br>\n",
    "\n",
    "**Useful links:**\n",
    "\n",
    "* [VNP46A1 Product Information](https://ladsweb.modaps.eosdis.nasa.gov/missions-and-measurements/products/VNP46A1/)\n",
    "* [VIIRS Black Marble User Guide](https://viirsland.gsfc.nasa.gov/PDF/VIIRS_BlackMarble_UserGuide.pdf)\n",
    "* [NASA Earthdata Scripts](https://git.earthdata.nasa.gov/projects/LPDUR/repos/nasa-viirs/browse/scripts)\n",
    "\n",
    "<br>\n",
    "\n",
    "**File naming convention:**\n",
    "\n",
    "VNP46A1.AYYYYDDD.hXXvYY.CCC.YYYYDDDHHMMSS.h5\n",
    "\n",
    "* VNP46A1 = Short-name\n",
    "* AYYYYDDD = Acquisition Year and Day of Year\n",
    "* hXXvYY = Tile Identifier (horizontalXXverticalYY)\n",
    "* CCC = Collection Version\n",
    "* YYYYDDDHHMMSS = Production Date – Year, Day, Hour, Minute, Second\n",
    "* h5 = Data Format (HDF5)\n",
    "\n",
    "<br>\n",
    "\n",
    "**Bands of interest (User Guide pp. 12-13):**\n",
    "\n",
    "| Scientific Dataset          | Units             | Description            | Bit Types               | Fill Value | Valid Range | Scale Factor | Offset |\n",
    "|:-----------------------------|:-------------------|:------------------------|:-------------------------|:------------|:-------------|:--------------|:--------|\n",
    "| DNB_At_Sensor_Radiance_500m | nW_per_cm2_per_sr | At-sensor DNB radiance | 16-bit unsigned integer | 65535      | 0 - 65534   | 0.1          | 0.0    |\n",
    "| QF_Cloud_Mask               | Unitless          | Cloud mask status      | 16-bit unsigned integer | 65535      | 0 - 65534   | N/A          | N/A    |\n",
    "| QF_DNB                      | Unitless          | DNB_quality flag       | 16-bit unsigned integer | 65535      | 0 - 65534   | N/A          | N/A    |\n",
    "| UTC_Time                    | Decimal hours     | UTC Time               | 32-bit floating point   | -999.9     | 0 - 24      | 1.0          | 0.0    |\n",
    "\n",
    "<br>\n",
    "\n",
    "**Masking Criteria/Workflow:**\n",
    "\n",
    "* mask where DNB_At_Sensor_Radiance_500m == 65535\n",
    "* mask where QF_Cloud_Mask == 2 (Probably Cloudy)\n",
    "* mask where QF_Cloud_Mask == 3 (Confident Cloudy)\n",
    "* mask where QF_DNB != 0 (0 = no problems, any other number means some kind of issue)\n",
    "\n",
    "<br>\n",
    "\n",
    "**Preprocessing Workflow:**\n",
    "\n",
    "* Extract bands\n",
    "* Mask for fill values\n",
    "* Mask for clouds\n",
    "* Mask for sensor problems\n",
    "* Fill masked values\n",
    "* Create transform\n",
    "* Create metadata\n",
    "* Export array to GeoTiff\n",
    "\n",
    "<br>\n",
    "\n",
    "**QF_Cloud_Mask (base-2) (User Guide p. 14):**\n",
    "\n",
    "| Bit | Flag Description Key                          | Interpretation                                                                            |\n",
    "|:-----|:-----------------------------------------------|:-------------------------------------------------------------------------------------------|\n",
    "| 0   | Day/Night                                     | 0 = Night <br> 1 = Day                                                                         |\n",
    "| 1-3 | Land/Water Background                         | 000 = Land & Desert <br> 001 = Land no Desert <br> 010 = Inland Water <br> 011 = Sea Water <br> 101 = Coastal |\n",
    "| 4-5 | Cloud Mask Quality                            | 00 = Poor <br> 01 = Low <br> 10 = Medium <br> 11 = High                                                  |\n",
    "| 6-7 | Cloud Detection Results & Confidence Indicator | 00 = Confident Clear <br> 01 = Probably Clear <br> 10 = Probably Cloudy <br> 11 = Confident Cloudy     |\n",
    "| 8   | Shadow Detected                               | 1 = Yes <br> 0 = No                                                                            |\n",
    "| 9   | Cirrus Detection (IR) (BTM15 –BTM16)          | 1 = Cloud <br> 0 = No Cloud                                                                   |\n",
    "| 10  | Snow/Ice Surface                              | 1 = Snow/Ice <br> 0 = No Snow/Ice                                                            |\n",
    "\n",
    "<br>\n",
    "\n",
    "**QF_Cloud_Mask (base-10) (Adapted from User Guide p. 14):**\n",
    "\n",
    "| Bit | Flag Description Key                          | Interpretation                                                                            |\n",
    "|:-----|:-----------------------------------------------|:-------------------------------------------------------------------------------------------|\n",
    "| 0   | Day/Night                                     | 0 = Night <br> 1 = Day                                                                         |\n",
    "| 1-3 | Land/Water Background                         | 0 = Land & Desert <br> 1 = Land no Desert <br> 2 = Inland Water <br> 3 = Sea Water <br> 5 = Coastal |\n",
    "| 4-5 | Cloud Mask Quality                            | 0 = Poor <br> 1 = Low <br> 2 = Medium <br> 3 = High                                                  |\n",
    "| 6-7 | Cloud Detection Results & Confidence Indicator | 0 = Confident Clear <br> 1 = Probably Clear <br> 2 = Probably Cloudy <br> 3 = Confident Cloudy     |\n",
    "| 8   | Shadow Detected                               | 1 = Yes <br> 0 = No                                                                            |\n",
    "| 9   | Cirrus Detection (IR) (BTM15 –BTM16)          | 1 = Cloud <br> 0 = No Cloud                                                                   |\n",
    "| 10  | Snow/Ice Surface                              | 1 = Snow/Ice <br> 0 = No Snow/Ice                                                            |\n",
    "\n",
    "<br>\n",
    "\n",
    "**QF_DNB (base-10) (User Guide pp. 14-15)**:\n",
    "\n",
    "| Science Data Set | Flag Mask Values and Descriptions|\n",
    "|:-----------|:-----------------------------------------------------------------------------------------------------------------------------------------------------------------------------------------------------------------------|\n",
    "| QF_DNB    | 1 &nbsp;&nbsp;&nbsp;&nbsp;&nbsp; = Substitute_Cal<br>2&nbsp;&nbsp;&nbsp;&nbsp;&nbsp;&nbsp; = Out_of_Range<br>4&nbsp;&nbsp;&nbsp;&nbsp;&nbsp;&nbsp; = Saturation<br>8&nbsp;&nbsp;&nbsp;&nbsp;&nbsp;&nbsp; = Temp_not_Nominal<br>16&nbsp;&nbsp;&nbsp;&nbsp; = Stray_Light<br>256&nbsp;&nbsp; = Bowtie_Deleted/Range_Bit<br>512&nbsp;&nbsp; = Missing_EV<br>1024 = Cal_Fail<br>2048 = Dead_Detector |"
   ]
  }
 ],
 "metadata": {
  "hide_input": false,
  "kernelspec": {
   "display_name": "Python 3",
   "language": "python",
   "name": "python3"
  },
  "language_info": {
   "codemirror_mode": {
    "name": "ipython",
    "version": 3
   },
   "file_extension": ".py",
   "mimetype": "text/x-python",
   "name": "python",
   "nbconvert_exporter": "python",
   "pygments_lexer": "ipython3",
   "version": "3.7.6"
  },
  "toc": {
   "base_numbering": 1,
   "nav_menu": {},
   "number_sections": true,
   "sideBar": true,
   "skip_h1_title": false,
   "title_cell": "Table of Contents",
   "title_sidebar": "Contents",
   "toc_cell": false,
   "toc_position": {
    "height": "calc(100% - 180px)",
    "left": "10px",
    "top": "150px",
    "width": "307.2px"
   },
   "toc_section_display": true,
   "toc_window_display": true
  },
  "varInspector": {
   "cols": {
    "lenName": 16,
    "lenType": 16,
    "lenVar": 40
   },
   "kernels_config": {
    "python": {
     "delete_cmd_postfix": "",
     "delete_cmd_prefix": "del ",
     "library": "var_list.py",
     "varRefreshCmd": "print(var_dic_list())"
    },
    "r": {
     "delete_cmd_postfix": ") ",
     "delete_cmd_prefix": "rm(",
     "library": "var_list.r",
     "varRefreshCmd": "cat(var_dic_list()) "
    }
   },
   "types_to_exclude": [
    "module",
    "function",
    "builtin_function_or_method",
    "instance",
    "_Feature"
   ],
   "window_display": false
  }
 },
 "nbformat": 4,
 "nbformat_minor": 4
}
