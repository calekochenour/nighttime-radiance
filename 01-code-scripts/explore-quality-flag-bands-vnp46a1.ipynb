{
 "cells": [
  {
   "cell_type": "markdown",
   "metadata": {},
   "source": [
    "# VNP46A1 Quality Flag Bands Exploration\n",
    "\n",
    "Explores the QF_Cloud_Mask and QF_DNB bands in a VNP46A1 image.\n",
    "\n",
    "The tables in this Notebook are found in the [Black Marble User Guide Version 1.0](https://viirsland.gsfc.nasa.gov/PDF/VIIRS_BlackMarble_UserGuide.pdf).\n",
    "\n",
    "**QF_Cloud_Mask (base-10) (Adapted from User Guide p. 14):**\n",
    "\n",
    "| Bit | Flag Description Key                          | Interpretation                                                                            |\n",
    "|:-----|:-----------------------------------------------|:-------------------------------------------------------------------------------------------|\n",
    "| 0   | Day/Night                                     | 0 = Night <br> 1 = Day                                                                         |\n",
    "| 1-3 | Land/Water Background                         | 0 = Land & Desert <br> 1 = Land no Desert <br> 2 = Inland Water <br> 3 = Sea Water <br> 5 = Coastal |\n",
    "| 4-5 | Cloud Mask Quality                            | 0 = Poor <br> 1 = Low <br> 2 = Medium <br> 3 = High                                                  |\n",
    "| 6-7 | Cloud Detection Results & Confidence Indicator | 0 = Confident Clear <br> 1 = Probably Clear <br> 2 = Probably Cloudy <br> 3 = Confident Cloudy     |\n",
    "| 8   | Shadow Detected                               | 1 = Yes <br> 0 = No                                                                            |\n",
    "| 9   | Cirrus Detection (IR) (BTM15 –BTM16)          | 1 = Cloud <br> 0 = No Cloud                                                                   |\n",
    "| 10  | Snow/Ice Surface                              | 1 = Snow/Ice <br> 0 = No Snow/Ice                                                            |\n",
    "<br>\n",
    "\n",
    "**QF_DNB (base-10) (User Guide pp. 14-15)**:\n",
    "\n",
    "| Science Data Set | Flag Mask Value and Description|\n",
    "|:-----------|:-----------------------------------------------------------------------------------------------------------------------------------------------------------------------------------------------------------------------|\n",
    "| QF_DNB    | 1 &nbsp;&nbsp;&nbsp;&nbsp;&nbsp; = Substitute_Cal<br>2&nbsp;&nbsp;&nbsp;&nbsp;&nbsp;&nbsp; = Out_of_Range<br>4&nbsp;&nbsp;&nbsp;&nbsp;&nbsp;&nbsp; = Saturation<br>8&nbsp;&nbsp;&nbsp;&nbsp;&nbsp;&nbsp; = Temp_not_Nominal<br>16&nbsp;&nbsp;&nbsp;&nbsp; = Stray_Light<br>256&nbsp;&nbsp; = Bowtie_Deleted/Range_Bit<br>512&nbsp;&nbsp; = Missing_EV<br>1024 = Cal_Fail<br>2048 = Dead_Detector |"
   ]
  },
  {
   "cell_type": "markdown",
   "metadata": {},
   "source": [
    "# Environment Setup"
   ]
  },
  {
   "cell_type": "code",
   "execution_count": null,
   "metadata": {
    "ExecuteTime": {
     "end_time": "2020-11-17T19:50:28.031183Z",
     "start_time": "2020-11-17T19:50:27.870099Z"
    }
   },
   "outputs": [],
   "source": [
    "# Load Notebook formatter\n",
    "%load_ext nb_black\n",
    "# %reload_ext nb_black"
   ]
  },
  {
   "cell_type": "code",
   "execution_count": null,
   "metadata": {
    "ExecuteTime": {
     "end_time": "2020-11-17T19:50:29.537706Z",
     "start_time": "2020-11-17T19:50:28.034176Z"
    }
   },
   "outputs": [],
   "source": [
    "# Import packages\n",
    "import os\n",
    "import warnings\n",
    "import numpy as np\n",
    "import earthpy.plot as ep\n",
    "import viirs"
   ]
  },
  {
   "cell_type": "code",
   "execution_count": null,
   "metadata": {
    "ExecuteTime": {
     "end_time": "2020-11-17T19:50:29.552664Z",
     "start_time": "2020-11-17T19:50:29.540666Z"
    }
   },
   "outputs": [],
   "source": [
    "# Set options\n",
    "warnings.filterwarnings(\"ignore\")"
   ]
  },
  {
   "cell_type": "code",
   "execution_count": null,
   "metadata": {
    "ExecuteTime": {
     "end_time": "2020-11-17T19:50:29.586544Z",
     "start_time": "2020-11-17T19:50:29.555627Z"
    }
   },
   "outputs": [],
   "source": [
    "# Set working directory\n",
    "os.chdir(\"..\")\n",
    "print(f\"Working directory: {os.getcwd()}\")"
   ]
  },
  {
   "cell_type": "markdown",
   "metadata": {},
   "source": [
    "# Data Acquisition and Preprocessing"
   ]
  },
  {
   "cell_type": "code",
   "execution_count": null,
   "metadata": {
    "ExecuteTime": {
     "end_time": "2020-11-17T19:50:29.599511Z",
     "start_time": "2020-11-17T19:50:29.589555Z"
    }
   },
   "outputs": [],
   "source": [
    "# Set path to VNP46A1 test image (Jan 6, 2020, majority cloudy)\n",
    "hdf5_path = os.path.join(\n",
    "    \"02-raw-data\",\n",
    "    \"hdf\",\n",
    "    \"south-korea\",\n",
    "    \"VNP46A1.A2020006.h30v05.001.2020029061058.h5\",\n",
    ")"
   ]
  },
  {
   "cell_type": "code",
   "execution_count": null,
   "metadata": {
    "ExecuteTime": {
     "end_time": "2020-11-17T19:50:29.866370Z",
     "start_time": "2020-11-17T19:50:29.602532Z"
    }
   },
   "outputs": [],
   "source": [
    "# Extract DNB At-Sensor Radiance, QF CLoud Mask, and QF DNB bands\n",
    "dnb_at_sensor_radiance = viirs.extract_band_vnp46a1(\n",
    "    hdf5_path=hdf5_path, band_name=\"DNB_At_Sensor_Radiance_500m\"\n",
    ")\n",
    "qf_cloud_mask = viirs.extract_band_vnp46a1(\n",
    "    hdf5_path=hdf5_path, band_name=\"QF_Cloud_Mask\"\n",
    ")\n",
    "qf_dnb = viirs.extract_band_vnp46a1(hdf5_path=hdf5_path, band_name=\"QF_DNB\")"
   ]
  },
  {
   "cell_type": "code",
   "execution_count": null,
   "metadata": {
    "ExecuteTime": {
     "end_time": "2020-11-17T19:50:29.969105Z",
     "start_time": "2020-11-17T19:50:29.870390Z"
    }
   },
   "outputs": [],
   "source": [
    "# Show QF DNB bitmask unique values (within the single image)\n",
    "print(f\"QF DNB: {np.unique(qf_dnb)}\")"
   ]
  },
  {
   "cell_type": "code",
   "execution_count": null,
   "metadata": {
    "ExecuteTime": {
     "end_time": "2020-11-17T19:50:30.136682Z",
     "start_time": "2020-11-17T19:50:29.973116Z"
    }
   },
   "outputs": [],
   "source": [
    "# Extract QF Cloud Mask bitmasks\n",
    "day_night = viirs.extract_qa_bits(qf_cloud_mask, 0, 0)\n",
    "land_water_background = viirs.extract_qa_bits(qf_cloud_mask, 1, 3)\n",
    "cloud_mask_quality = viirs.extract_qa_bits(qf_cloud_mask, 4, 5)\n",
    "cloud_detection = viirs.extract_qa_bits(qf_cloud_mask, 6, 7)\n",
    "shadow_detected = viirs.extract_qa_bits(qf_cloud_mask, 8, 8)\n",
    "cirrus_detection = viirs.extract_qa_bits(qf_cloud_mask, 9, 9)\n",
    "snow_ice_surface = viirs.extract_qa_bits(qf_cloud_mask, 10, 10)"
   ]
  },
  {
   "cell_type": "code",
   "execution_count": null,
   "metadata": {
    "ExecuteTime": {
     "end_time": "2020-11-17T19:50:30.788656Z",
     "start_time": "2020-11-17T19:50:30.139675Z"
    }
   },
   "outputs": [],
   "source": [
    "# Show QF Cloud Mask bitmask unique values (within the single image)\n",
    "print(f\"Day/Night: {np.unique(day_night)}\")\n",
    "print(f\"Land/Water Background: {np.unique(land_water_background)}\")\n",
    "print(f\"Cloud Mask Quality: {np.unique(cloud_mask_quality)}\")\n",
    "print(f\"Coud Detection Results: {np.unique(cloud_detection)}\")\n",
    "print(f\"Shadow Detected: {np.unique(shadow_detected)}\")\n",
    "print(f\"Cirrus Detection: {np.unique(cirrus_detection)}\")\n",
    "print(f\"Snow/Ice Surface: {np.unique(snow_ice_surface)}\")"
   ]
  },
  {
   "cell_type": "code",
   "execution_count": null,
   "metadata": {
    "ExecuteTime": {
     "end_time": "2020-11-17T19:50:31.202546Z",
     "start_time": "2020-11-17T19:50:30.790657Z"
    }
   },
   "outputs": [],
   "source": [
    "# Create quality flag stack\n",
    "quality_flag_stack = viirs.stack_quality_flags_vnp46a1(vnp46a1_path=hdf5_path)\n",
    "print(\n",
    "    f\"Quality stack shape (bands, rows, columns): {quality_flag_stack.shape}\"\n",
    ")"
   ]
  },
  {
   "cell_type": "markdown",
   "metadata": {},
   "source": [
    "# Data Processing"
   ]
  },
  {
   "cell_type": "code",
   "execution_count": null,
   "metadata": {},
   "outputs": [],
   "source": []
  },
  {
   "cell_type": "markdown",
   "metadata": {},
   "source": [
    "# Data Postprocessing"
   ]
  },
  {
   "cell_type": "code",
   "execution_count": null,
   "metadata": {},
   "outputs": [],
   "source": []
  },
  {
   "cell_type": "markdown",
   "metadata": {},
   "source": [
    "# Data Visualization"
   ]
  },
  {
   "cell_type": "code",
   "execution_count": null,
   "metadata": {
    "ExecuteTime": {
     "end_time": "2020-11-17T19:50:32.097494Z",
     "start_time": "2020-11-17T19:50:31.205538Z"
    }
   },
   "outputs": [],
   "source": [
    "# Plot raw at-sensor radiance image (before preprocessing)\n",
    "radiance = ep.plot_bands(dnb_at_sensor_radiance, vmax=100)"
   ]
  },
  {
   "cell_type": "code",
   "execution_count": null,
   "metadata": {
    "ExecuteTime": {
     "end_time": "2020-11-17T19:50:36.595977Z",
     "start_time": "2020-11-17T19:50:32.110478Z"
    }
   },
   "outputs": [],
   "source": [
    "# Plot all quality flags\n",
    "fig, ax = viirs.plot_quality_flags_vnp46a1(quality_flag_stack)"
   ]
  },
  {
   "cell_type": "code",
   "execution_count": null,
   "metadata": {
    "ExecuteTime": {
     "end_time": "2020-11-17T19:50:37.221334Z",
     "start_time": "2020-11-17T19:50:36.598938Z"
    }
   },
   "outputs": [],
   "source": [
    "# Plot day/night bitmask\n",
    "fig, ax = viirs.plot_quality_flag_bitmask_single_band(\n",
    "    bitmask_array=day_night, bitmask_name=\"Day/Night\"\n",
    ")"
   ]
  },
  {
   "cell_type": "code",
   "execution_count": null,
   "metadata": {
    "ExecuteTime": {
     "end_time": "2020-11-17T19:50:38.044059Z",
     "start_time": "2020-11-17T19:50:37.223304Z"
    }
   },
   "outputs": [],
   "source": [
    "# Plot land/water background bitmask\n",
    "fig, ax = viirs.plot_quality_flag_bitmask_single_band(\n",
    "    bitmask_array=land_water_background, bitmask_name=\"Land/Water Background\"\n",
    ")"
   ]
  },
  {
   "cell_type": "code",
   "execution_count": null,
   "metadata": {
    "ExecuteTime": {
     "end_time": "2020-11-17T19:50:38.793247Z",
     "start_time": "2020-11-17T19:50:38.046054Z"
    }
   },
   "outputs": [],
   "source": [
    "# Plot cloud mask quality bitmask\n",
    "fig, ax = viirs.plot_quality_flag_bitmask_single_band(\n",
    "    bitmask_array=cloud_mask_quality, bitmask_name=\"Cloud Mask Quality\"\n",
    ")"
   ]
  },
  {
   "cell_type": "code",
   "execution_count": null,
   "metadata": {
    "ExecuteTime": {
     "end_time": "2020-11-17T19:50:39.508997Z",
     "start_time": "2020-11-17T19:50:38.795243Z"
    }
   },
   "outputs": [],
   "source": [
    "# Plot cloud detection bitmask\n",
    "fig, ax = viirs.plot_quality_flag_bitmask_single_band(\n",
    "    bitmask_array=cloud_detection, bitmask_name=\"Cloud Detection\"\n",
    ")"
   ]
  },
  {
   "cell_type": "code",
   "execution_count": null,
   "metadata": {
    "ExecuteTime": {
     "end_time": "2020-11-17T19:50:40.167157Z",
     "start_time": "2020-11-17T19:50:39.511990Z"
    }
   },
   "outputs": [],
   "source": [
    "# Plot shadow detected bitmask\n",
    "fig, ax = viirs.plot_quality_flag_bitmask_single_band(\n",
    "    bitmask_array=shadow_detected, bitmask_name=\"Shadow Detected\"\n",
    ")"
   ]
  },
  {
   "cell_type": "code",
   "execution_count": null,
   "metadata": {
    "ExecuteTime": {
     "end_time": "2020-11-17T19:50:40.863757Z",
     "start_time": "2020-11-17T19:50:40.169117Z"
    }
   },
   "outputs": [],
   "source": [
    "# Plot cirrus detection bitmask\n",
    "fig, ax = viirs.plot_quality_flag_bitmask_single_band(\n",
    "    bitmask_array=cirrus_detection, bitmask_name=\"Cirrus Detection\"\n",
    ")"
   ]
  },
  {
   "cell_type": "code",
   "execution_count": null,
   "metadata": {
    "ExecuteTime": {
     "end_time": "2020-11-17T19:50:41.512037Z",
     "start_time": "2020-11-17T19:50:40.867746Z"
    },
    "scrolled": false
   },
   "outputs": [],
   "source": [
    "# Plot snow/ice surface bitmask\n",
    "fig, ax = viirs.plot_quality_flag_bitmask_single_band(\n",
    "    bitmask_array=snow_ice_surface, bitmask_name=\"Snow/Ice Surface\"\n",
    ")"
   ]
  },
  {
   "cell_type": "code",
   "execution_count": null,
   "metadata": {
    "ExecuteTime": {
     "end_time": "2020-11-17T19:50:42.191663Z",
     "start_time": "2020-11-17T19:50:41.516015Z"
    }
   },
   "outputs": [],
   "source": [
    "# Plot QF DNB bitmask\n",
    "fig, ax = viirs.plot_quality_flag_bitmask_single_band(\n",
    "    bitmask_array=qf_dnb, bitmask_name=\"QF DNB\"\n",
    ")"
   ]
  },
  {
   "cell_type": "markdown",
   "metadata": {},
   "source": [
    "# Data Export"
   ]
  },
  {
   "cell_type": "code",
   "execution_count": null,
   "metadata": {},
   "outputs": [],
   "source": []
  }
 ],
 "metadata": {
  "hide_input": false,
  "kernelspec": {
   "display_name": "Python 3",
   "language": "python",
   "name": "python3"
  },
  "language_info": {
   "codemirror_mode": {
    "name": "ipython",
    "version": 3
   },
   "file_extension": ".py",
   "mimetype": "text/x-python",
   "name": "python",
   "nbconvert_exporter": "python",
   "pygments_lexer": "ipython3",
   "version": "3.7.6"
  },
  "toc": {
   "base_numbering": 1,
   "nav_menu": {},
   "number_sections": true,
   "sideBar": true,
   "skip_h1_title": false,
   "title_cell": "Table of Contents",
   "title_sidebar": "Contents",
   "toc_cell": false,
   "toc_position": {},
   "toc_section_display": true,
   "toc_window_display": true
  },
  "varInspector": {
   "cols": {
    "lenName": 16,
    "lenType": 16,
    "lenVar": 40
   },
   "kernels_config": {
    "python": {
     "delete_cmd_postfix": "",
     "delete_cmd_prefix": "del ",
     "library": "var_list.py",
     "varRefreshCmd": "print(var_dic_list())"
    },
    "r": {
     "delete_cmd_postfix": ") ",
     "delete_cmd_prefix": "rm(",
     "library": "var_list.r",
     "varRefreshCmd": "cat(var_dic_list()) "
    }
   },
   "types_to_exclude": [
    "module",
    "function",
    "builtin_function_or_method",
    "instance",
    "_Feature"
   ],
   "window_display": false
  }
 },
 "nbformat": 4,
 "nbformat_minor": 4
}
