{
 "cells": [
  {
   "cell_type": "markdown",
   "metadata": {},
   "source": [
    "# Introduction\n",
    "\n",
    "Preprocesses NASA VNP46A2 HDF5 files. This Notebook takes raw `.h5` files and completes the following preprocessing tasks:\n",
    "\n",
    "* Extracts radiance and quality flag bands;\n",
    "* Masks radiance for fill values, clouds, and sea water;\n",
    "* Fills masked data with NaN values;\n",
    "* Creates a georeferencing transform;\n",
    "* Creates export metadata; and,\n",
    "* Exports radiance data to GeoTiff format.\n",
    "\n",
    "This Notebook uses the following folder structure:\n",
    "\n",
    "```\n",
    "├── 01-code-scripts\n",
    "│   ├── clip_vnp46a1.ipynb\n",
    "│   ├── clip_vnp46a1.py\n",
    "│   ├── concatenate_vnp46a1.ipynb\n",
    "│   ├── concatenate_vnp46a1.py\n",
    "│   ├── download_laads_order.ipynb\n",
    "│   ├── download_laads_order.py\n",
    "│   ├── preprocess_vnp46a1.ipynb\n",
    "│   ├── preprocess_vnp46a1.py\n",
    "│   ├── preprocess_vnp46a2.ipynb\n",
    "│   ├── preprocess_vnp46a2.py\n",
    "│   └── viirs.py\n",
    "├── 02-raw-data\n",
    "├── 03-processed-data\n",
    "├── 04-graphics-outputs\n",
    "└── 05-papers-writings\n",
    "```\n",
    "\n",
    "Running the Notebook from the `01-code-scripts/` folder works by default. If the Notebook runs from a different folder, the paths in the environment setup section may have to be changed."
   ]
  },
  {
   "cell_type": "markdown",
   "metadata": {},
   "source": [
    "# Environment Setup"
   ]
  },
  {
   "cell_type": "code",
   "execution_count": null,
   "metadata": {
    "ExecuteTime": {
     "end_time": "2020-12-03T15:03:41.974665Z",
     "start_time": "2020-12-03T15:03:41.768217Z"
    }
   },
   "outputs": [],
   "source": [
    "# Load Notebook formatter\n",
    "%load_ext nb_black\n",
    "# %reload_ext nb_black"
   ]
  },
  {
   "cell_type": "code",
   "execution_count": null,
   "metadata": {
    "ExecuteTime": {
     "end_time": "2020-12-03T15:03:46.104743Z",
     "start_time": "2020-12-03T15:03:41.977658Z"
    }
   },
   "outputs": [],
   "source": [
    "# Import packages\n",
    "import os\n",
    "import warnings\n",
    "import glob\n",
    "import viirs"
   ]
  },
  {
   "cell_type": "code",
   "execution_count": null,
   "metadata": {
    "ExecuteTime": {
     "end_time": "2020-12-03T15:03:46.116722Z",
     "start_time": "2020-12-03T15:03:46.106714Z"
    }
   },
   "outputs": [],
   "source": [
    "# Set options\n",
    "warnings.simplefilter(\"ignore\")"
   ]
  },
  {
   "cell_type": "code",
   "execution_count": null,
   "metadata": {
    "ExecuteTime": {
     "end_time": "2020-12-03T15:03:46.128655Z",
     "start_time": "2020-12-03T15:03:46.119717Z"
    }
   },
   "outputs": [],
   "source": [
    "# Set working directory\n",
    "os.chdir(\"..\")"
   ]
  },
  {
   "cell_type": "markdown",
   "metadata": {},
   "source": [
    "# User-Defined Variables"
   ]
  },
  {
   "cell_type": "code",
   "execution_count": null,
   "metadata": {
    "ExecuteTime": {
     "end_time": "2020-12-03T15:03:46.143647Z",
     "start_time": "2020-12-03T15:03:46.130652Z"
    }
   },
   "outputs": [],
   "source": [
    "# Define path to folder containing input VNP46A2 HDF5 files\n",
    "hdf5_input_folder = os.path.join(\n",
    "    \"02-raw-data\", \"hdf\", \"south-korea\", \"vnp46a2\"\n",
    ")\n",
    "\n",
    "# Defne path to output folder to store exported GeoTiff files\n",
    "geotiff_output_folder = os.path.join(\n",
    "    \"03-processed-data\", \"raster\", \"south-korea\", \"vnp46a2-grid\"\n",
    ")"
   ]
  },
  {
   "cell_type": "markdown",
   "metadata": {},
   "source": [
    "# Data Preprocessing"
   ]
  },
  {
   "cell_type": "code",
   "execution_count": null,
   "metadata": {
    "ExecuteTime": {
     "end_time": "2020-12-03T15:06:08.600412Z",
     "start_time": "2020-12-03T15:03:46.145611Z"
    },
    "scrolled": true
   },
   "outputs": [],
   "source": [
    "# Preprocess each HDF5 file (extract bands, mask for fill values,\n",
    "#  poor-quality, no retrieval, clouds, sea water, fill masked values\n",
    "#  with NaN, export to GeoTiff)\n",
    "hdf5_files = glob.glob(os.path.join(hdf5_input_folder, \"*.h5\"))\n",
    "processed_files = 0\n",
    "total_files = len(hdf5_files)\n",
    "for hdf5 in hdf5_files:\n",
    "    viirs.preprocess_vnp46a2(\n",
    "        hdf5_path=hdf5, output_folder=geotiff_output_folder\n",
    "    )\n",
    "    processed_files += 1\n",
    "    print(f\"Preprocessed file: {processed_files} of {total_files}\\n\\n\")"
   ]
  },
  {
   "cell_type": "markdown",
   "metadata": {},
   "source": [
    "# Notes and References"
   ]
  },
  {
   "cell_type": "markdown",
   "metadata": {},
   "source": [
    "**File download:**\n",
    "\n",
    "VNP46A2 HDF5 files were first downloaded using the `01-code-scripts/download_laads_order.py` script. This script requires a user to have a valid [NASA Earthdata](https://urs.earthdata.nasa.gov/) account and have placed an order for files.\n",
    "\n",
    "<br>\n",
    "\n",
    "**Useful links:**\n",
    "\n",
    "* [VNP46A2 Product Information](https://ladsweb.modaps.eosdis.nasa.gov/missions-and-measurements/products/VNP46A2/)\n",
    "* [VIIRS Black Marble User Guide](https://viirsland.gsfc.nasa.gov/PDF/VIIRS_BlackMarble_UserGuide.pdf)\n",
    "* [NASA Earthdata Scripts](https://git.earthdata.nasa.gov/projects/LPDUR/repos/nasa-viirs/browse/scripts)\n",
    "\n",
    "<br>\n",
    "\n",
    "**File naming convention:**\n",
    "\n",
    "VNP46A2.AYYYYDDD.hXXvYY.CCC.YYYYDDDHHMMSS.h5\n",
    "\n",
    "* VNP46A2 = Short-name\n",
    "* AYYYYDDD = Acquisition Year and Day of Year\n",
    "* hXXvYY = Tile Identifier (horizontalXXverticalYY)\n",
    "* CCC = Collection Version\n",
    "* YYYYDDDHHMMSS = Production Date – Year, Day, Hour, Minute, Second\n",
    "* h5 = Data Format (HDF5)\n",
    "\n",
    "<br>\n",
    "\n",
    "**Bands of interest (User Guide pp. 12-13):**\n",
    "\n",
    "| Scientific Dataset          | Units             | Description            | Bit Types               | Fill Value | Valid Range | Scale Factor | Offset |\n",
    "|:-----------------------------|:-------------------|:------------------------|:-------------------------|:------------|:-------------|:--------------|:--------|\n",
    "| DNB_BRDF-Corrected_NTL | nW_per_cm2_per_sr | BRDF corrected DNB NTL | 16-bit unsigned integer | 65,535      | 0 - 65,534   | 0.1          | 0.0    |\n",
    "| Mandatory Quality Flag                      | Unitless          | Mandatory quality flag       | 8-bit unsigned integer | 255      | 0 - 3   | N/A          | N/A    |\n",
    "| QF_Cloud_Mask               | Unitless          | Quality flag for cloud mask     | 16-bit unsigned integer | 65,535      | 0 - 65,534   | N/A          | N/A    |\n",
    "| Snow_Flag                   | Unitless       | Flag for snow cover               | 8-bit unsigned integer   | 255      | 0 - 1      | N/A        | N/A    |\n",
    "\n",
    "<br>\n",
    "\n",
    "**Masking Criteria/Workflow:**\n",
    "\n",
    "* mask where `dnb_brdf_corrected_ntl == 65535` (Fill Value)\n",
    "* mask where `mandatory_quality_flag == 2` (Poor Quality)\n",
    "* mask where `mandatory_quality_flag == 255` (No Retrieval)\n",
    "* mask where `cloud_detection_bitmask == 2` (Probably Cloudy)\n",
    "* mask where `cloud_detection_bitmask == 3` (Confident Cloudy)\n",
    "* mask where `land_water_bitmask == 3` (Sea Water)\n",
    "\n",
    "<br>\n",
    "\n",
    "**Preprocessing Workflow:**\n",
    "\n",
    "* Extract bands\n",
    "* Apply scale factor\n",
    "* Mask for fill values\n",
    "* Mask for poor quality and no retrieval\n",
    "* Mask for clouds\n",
    "* Mask for sea water\n",
    "* Fill masked values\n",
    "* Create transform\n",
    "* Create metadata\n",
    "* Export array to GeoTiff\n",
    "\n",
    "<br>\n",
    "\n",
    "**QF_Cloud_Mask (base-10) (Adapted from User Guide p. 14):**\n",
    "\n",
    "| Bit | Flag Description Key                          | Interpretation                                                                            |\n",
    "|:-----|:-----------------------------------------------|:-------------------------------------------------------------------------------------------|\n",
    "| 0   | Day/Night                                     | 0 = Night <br> 1 = Day                                                                         |\n",
    "| 1-3 | Land/Water Background                         | 0 = Land & Desert <br> 1 = Land no Desert <br> 2 = Inland Water <br> 3 = Sea Water <br> 5 = Coastal |\n",
    "| 4-5 | Cloud Mask Quality                            | 0 = Poor <br> 1 = Low <br> 2 = Medium <br> 3 = High                                                  |\n",
    "| 6-7 | Cloud Detection Results & Confidence Indicator | 0 = Confident Clear <br> 1 = Probably Clear <br> 2 = Probably Cloudy <br> 3 = Confident Cloudy     |\n",
    "| 8   | Shadow Detected                               | 0 = No <br> 1 = Yes                                                                             |\n",
    "| 9   | Cirrus Detection (IR) (BTM15 –BTM16)          | 0 = No Cloud <br> 1 = Cloud                                                                   |\n",
    "| 10  | Snow/Ice Surface                              | 0 = No Snow/Ice <br> 1 = Snow/Ice     |\n",
    "\n",
    "<br>\n",
    "\n",
    "**Mandatory_Cloud_Flag (base-10) (User Guide p. 16):**\n",
    "\n",
    "| Value | Retrieval Quality | Algorithm Instance                                                      |\n",
    "|:-------|:-------------------|:-------------------------------------------------------------------------|\n",
    "| 0     | High-quality      | Main algorithm (Persistent nighttime lights)                            |\n",
    "| 1     | High-quality      | Main algorithm (Ephemeral Nighttime Lights)                             |\n",
    "| 2     | Poor-quality      | Main algorithm (Outlier, potential cloud contamination or other issues) |\n",
    "| 255   | No retrieval      | Fill value                  |\n",
    "\n",
    "\n",
    "\n",
    "\n",
    "**Snow_Flag (base-10) (User Guide p. 16)**:\n",
    "\n",
    "| Flag Description Key | Value         | Interpretation                        |\n",
    "|:----------------------|:---------------|:---------------------------------------|\n",
    "| Snow/Ice Surface     | 0<br>1<br>255 | No Snow/Ice<br>Snow/Ice<br>Fill Value |"
   ]
  }
 ],
 "metadata": {
  "hide_input": false,
  "jupytext": {
   "encoding": "# -*- coding: utf-8 -*-"
  },
  "kernelspec": {
   "display_name": "Python 3",
   "language": "python",
   "name": "python3"
  },
  "language_info": {
   "codemirror_mode": {
    "name": "ipython",
    "version": 3
   },
   "file_extension": ".py",
   "mimetype": "text/x-python",
   "name": "python",
   "nbconvert_exporter": "python",
   "pygments_lexer": "ipython3",
   "version": "3.7.6"
  },
  "toc": {
   "base_numbering": 1,
   "nav_menu": {},
   "number_sections": true,
   "sideBar": true,
   "skip_h1_title": false,
   "title_cell": "Table of Contents",
   "title_sidebar": "Contents",
   "toc_cell": false,
   "toc_position": {
    "height": "calc(100% - 180px)",
    "left": "10px",
    "top": "150px",
    "width": "307.2px"
   },
   "toc_section_display": true,
   "toc_window_display": false
  },
  "varInspector": {
   "cols": {
    "lenName": 16,
    "lenType": 16,
    "lenVar": 40
   },
   "kernels_config": {
    "python": {
     "delete_cmd_postfix": "",
     "delete_cmd_prefix": "del ",
     "library": "var_list.py",
     "varRefreshCmd": "print(var_dic_list())"
    },
    "r": {
     "delete_cmd_postfix": ") ",
     "delete_cmd_prefix": "rm(",
     "library": "var_list.r",
     "varRefreshCmd": "cat(var_dic_list()) "
    }
   },
   "types_to_exclude": [
    "module",
    "function",
    "builtin_function_or_method",
    "instance",
    "_Feature"
   ],
   "window_display": false
  }
 },
 "nbformat": 4,
 "nbformat_minor": 4
}
