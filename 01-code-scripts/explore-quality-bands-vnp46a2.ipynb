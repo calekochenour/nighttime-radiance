{
 "cells": [
  {
   "cell_type": "markdown",
   "metadata": {},
   "source": [
    "# VNP46A2 Quality Flag Bands Exploration\n",
    "\n",
    "Explores the Mandatory_Quality_Flag, Snow_Flag, and QF_Cloud_Mask bands in a VNP46A2 image.\n",
    "\n",
    "The tables in this Notebook are found in the [Black Marble User Guide Version 1.0](https://viirsland.gsfc.nasa.gov/PDF/VIIRS_BlackMarble_UserGuide.pdf).\n",
    "\n",
    "**QF_Cloud_Mask (base-10) (Adapted from User Guide p. 14):**\n",
    "\n",
    "| Bit | Flag Description Key                          | Interpretation                                                                            |\n",
    "|:-----|:-----------------------------------------------|:-------------------------------------------------------------------------------------------|\n",
    "| 0   | Day/Night                                     | 0 = Night <br> 1 = Day                                                                         |\n",
    "| 1-3 | Land/Water Background                         | 0 = Land & Desert <br> 1 = Land no Desert <br> 2 = Inland Water <br> 3 = Sea Water <br> 5 = Coastal |\n",
    "| 4-5 | Cloud Mask Quality                            | 0 = Poor <br> 1 = Low <br> 2 = Medium <br> 3 = High                                                  |\n",
    "| 6-7 | Cloud Detection Results & Confidence Indicator | 0 = Confident Clear <br> 1 = Probably Clear <br> 2 = Probably Cloudy <br> 3 = Confident Cloudy     |\n",
    "| 8   | Shadow Detected                               | 0 = No <br> 1 = Yes                                                                             |\n",
    "| 9   | Cirrus Detection (IR) (BTM15 –BTM16)          | 0 = No Cloud <br> 1 = Cloud                                                                   |\n",
    "| 10  | Snow/Ice Surface                              | 0 = No Snow/Ice <br> 1 = Snow/Ice     |\n",
    "\n",
    "<br>\n",
    "\n",
    "**Mandatory_Cloud_Flag (base-10) (User Guide p. 16):**\n",
    "\n",
    "| Value | Retrieval Quality | Algorithm Instance                                                      |\n",
    "|:-------|:-------------------|:-------------------------------------------------------------------------|\n",
    "| 0     | High-quality      | Main algorithm (Persistent nighttime lights)                            |\n",
    "| 1     | High-quality      | Main algorithm (Ephemeral Nighttime Lights)                             |\n",
    "| 2     | Poor-quality      | Main algorithm (Outlier, potential cloud contamination or other issues) |\n",
    "| 255   | No retrieval      | Fill value                  |\n",
    "\n",
    "\n",
    "\n",
    "\n",
    "**Snow_Flag (base-10) (User Guide p. 16)**:\n",
    "\n",
    "| Flag Description Key | Value         | Interpretation                        |\n",
    "|:----------------------|:---------------|:---------------------------------------|\n",
    "| Snow/Ice Surface     | 0<br>1<br>255 | No Snow/Ice<br>Snow/Ice<br>Fill Value |"
   ]
  },
  {
   "cell_type": "markdown",
   "metadata": {},
   "source": [
    "# Environment Setup"
   ]
  },
  {
   "cell_type": "code",
   "execution_count": null,
   "metadata": {
    "ExecuteTime": {
     "end_time": "2020-12-03T16:38:07.534008Z",
     "start_time": "2020-12-03T16:38:07.361967Z"
    }
   },
   "outputs": [],
   "source": [
    "# Load Notebook formatter\n",
    "%load_ext nb_black\n",
    "# %reload_ext nb_black"
   ]
  },
  {
   "cell_type": "code",
   "execution_count": null,
   "metadata": {
    "ExecuteTime": {
     "end_time": "2020-12-03T16:38:10.286025Z",
     "start_time": "2020-12-03T16:38:07.537999Z"
    }
   },
   "outputs": [],
   "source": [
    "# Import packages\n",
    "import os\n",
    "import warnings\n",
    "import numpy as np\n",
    "import earthpy.plot as ep\n",
    "import viirs"
   ]
  },
  {
   "cell_type": "code",
   "execution_count": null,
   "metadata": {
    "ExecuteTime": {
     "end_time": "2020-12-03T16:38:10.298005Z",
     "start_time": "2020-12-03T16:38:10.288055Z"
    }
   },
   "outputs": [],
   "source": [
    "# Set options\n",
    "warnings.filterwarnings(\"ignore\")"
   ]
  },
  {
   "cell_type": "code",
   "execution_count": null,
   "metadata": {
    "ExecuteTime": {
     "end_time": "2020-12-03T16:38:10.313961Z",
     "start_time": "2020-12-03T16:38:10.299988Z"
    }
   },
   "outputs": [],
   "source": [
    "# Set working directory\n",
    "os.chdir(\"..\")\n",
    "print(f\"Working directory: {os.getcwd()}\")"
   ]
  },
  {
   "cell_type": "markdown",
   "metadata": {},
   "source": [
    "# Data Acquisition and Preprocessing"
   ]
  },
  {
   "cell_type": "code",
   "execution_count": null,
   "metadata": {
    "ExecuteTime": {
     "end_time": "2020-12-03T16:38:10.328935Z",
     "start_time": "2020-12-03T16:38:10.316942Z"
    }
   },
   "outputs": [],
   "source": [
    "# Set path to VNP46A2 test image (Jun 6, 2016)\n",
    "hdf5_path = os.path.join(\n",
    "    \"02-raw-data\",\n",
    "    \"hdf\",\n",
    "    \"south-korea\",\n",
    "    \"vnp46a2\",\n",
    "    \"VNP46A2.A2016153.h30v05.001.2020267141459.h5\",\n",
    ")"
   ]
  },
  {
   "cell_type": "code",
   "execution_count": null,
   "metadata": {
    "ExecuteTime": {
     "end_time": "2020-12-03T16:38:10.777147Z",
     "start_time": "2020-12-03T16:38:10.330905Z"
    }
   },
   "outputs": [],
   "source": [
    "# Extract all VNP46A2 bands\n",
    "dnb_brdf_corrected_ntl = viirs.extract_band_vnp46a2(\n",
    "    hdf5_path=hdf5_path, band_name=\"DNB_BRDF-Corrected_NTL\"\n",
    ")\n",
    "dnb_lunar_irradiance = viirs.extract_band_vnp46a2(\n",
    "    hdf5_path=hdf5_path, band_name=\"DNB_Lunar_Irradiance\"\n",
    ")\n",
    "gap_filled_dnb_brdf_corrected_ntl = viirs.extract_band_vnp46a2(\n",
    "    hdf5_path=hdf5_path, band_name=\"Gap_Filled_DNB_BRDF-Corrected_NTL\"\n",
    ")\n",
    "latest_high_quality_retrieval = viirs.extract_band_vnp46a2(\n",
    "    hdf5_path=hdf5_path, band_name=\"Latest_High_Quality_Retrieval\"\n",
    ")\n",
    "mandatory_quality_flag = viirs.extract_band_vnp46a2(\n",
    "    hdf5_path=hdf5_path, band_name=\"Mandatory_Quality_Flag\"\n",
    ")\n",
    "qf_cloud_mask = viirs.extract_band_vnp46a2(\n",
    "    hdf5_path=hdf5_path, band_name=\"QF_Cloud_Mask\"\n",
    ")\n",
    "snow_flag = viirs.extract_band_vnp46a2(\n",
    "    hdf5_path=hdf5_path, band_name=\"Snow_Flag\"\n",
    ")"
   ]
  },
  {
   "cell_type": "code",
   "execution_count": null,
   "metadata": {
    "ExecuteTime": {
     "end_time": "2020-12-03T16:38:11.059012Z",
     "start_time": "2020-12-03T16:38:10.781107Z"
    }
   },
   "outputs": [],
   "source": [
    "# Show main bands unique values (within the single image)\n",
    "print(\n",
    "    (\n",
    "        \"Latest High Quality Retrieval: \"\n",
    "        f\"{viirs.get_unique_values(latest_high_quality_retrieval)}\"\n",
    "    )\n",
    ")\n",
    "print(\n",
    "    (\n",
    "        f\"Mandatory Quality Flag: \"\n",
    "        f\"{viirs.get_unique_values(mandatory_quality_flag)}\"\n",
    "    )\n",
    ")\n",
    "print(f\"Snow Flag: {viirs.get_unique_values(snow_flag)}\")"
   ]
  },
  {
   "cell_type": "code",
   "execution_count": null,
   "metadata": {
    "ExecuteTime": {
     "end_time": "2020-12-03T16:38:11.265076Z",
     "start_time": "2020-12-03T16:38:11.062002Z"
    }
   },
   "outputs": [],
   "source": [
    "# Extract QF Cloud Mask bitmasks\n",
    "day_night = viirs.extract_qa_bits(qf_cloud_mask, 0, 0)\n",
    "land_water_background = viirs.extract_qa_bits(qf_cloud_mask, 1, 3)\n",
    "cloud_mask_quality = viirs.extract_qa_bits(qf_cloud_mask, 4, 5)\n",
    "cloud_detection = viirs.extract_qa_bits(qf_cloud_mask, 6, 7)\n",
    "shadow_detected = viirs.extract_qa_bits(qf_cloud_mask, 8, 8)\n",
    "cirrus_detection = viirs.extract_qa_bits(qf_cloud_mask, 9, 9)\n",
    "snow_ice_surface = viirs.extract_qa_bits(qf_cloud_mask, 10, 10)"
   ]
  },
  {
   "cell_type": "code",
   "execution_count": null,
   "metadata": {
    "ExecuteTime": {
     "end_time": "2020-12-03T16:38:12.004120Z",
     "start_time": "2020-12-03T16:38:11.268069Z"
    }
   },
   "outputs": [],
   "source": [
    "# Show QF Cloud Mask bitmask unique values (within the single image)\n",
    "print(f\"Day/Night: {viirs.get_unique_values(day_night)}\")\n",
    "print(\n",
    "    f\"Land/Water Background: {viirs.get_unique_values(land_water_background)}\"\n",
    ")\n",
    "print(f\"Cloud Mask Quality: {viirs.get_unique_values(cloud_mask_quality)}\")\n",
    "print(f\"Coud Detection Results: {viirs.get_unique_values(cloud_detection)}\")\n",
    "print(f\"Shadow Detected: {viirs.get_unique_values(shadow_detected)}\")\n",
    "print(f\"Cirrus Detection: {viirs.get_unique_values(cirrus_detection)}\")\n",
    "print(f\"Snow/Ice Surface: {viirs.get_unique_values(snow_ice_surface)}\")"
   ]
  },
  {
   "cell_type": "code",
   "execution_count": null,
   "metadata": {
    "ExecuteTime": {
     "end_time": "2020-12-03T16:38:12.397653Z",
     "start_time": "2020-12-03T16:38:12.007094Z"
    }
   },
   "outputs": [],
   "source": [
    "# Create quality flag stack\n",
    "quality_flag_stack = viirs.stack_quality_flags_vnp46a2(vnp46a2_path=hdf5_path)\n",
    "print(\n",
    "    f\"Quality stack shape (bands, rows, columns): {quality_flag_stack.shape}\"\n",
    ")"
   ]
  },
  {
   "cell_type": "markdown",
   "metadata": {},
   "source": [
    "# Data Processing"
   ]
  },
  {
   "cell_type": "code",
   "execution_count": null,
   "metadata": {},
   "outputs": [],
   "source": []
  },
  {
   "cell_type": "markdown",
   "metadata": {},
   "source": [
    "# Data Postprocessing"
   ]
  },
  {
   "cell_type": "code",
   "execution_count": null,
   "metadata": {},
   "outputs": [],
   "source": []
  },
  {
   "cell_type": "markdown",
   "metadata": {},
   "source": [
    "# Data Visualization"
   ]
  },
  {
   "cell_type": "markdown",
   "metadata": {},
   "source": [
    "## Radiance Image"
   ]
  },
  {
   "cell_type": "code",
   "execution_count": null,
   "metadata": {
    "ExecuteTime": {
     "end_time": "2020-12-03T16:38:13.289766Z",
     "start_time": "2020-12-03T16:38:12.400648Z"
    }
   },
   "outputs": [],
   "source": [
    "# Plot raw DNB_BRDF-Corrected_NTL (before preprocessing)\n",
    "radiance = ep.plot_bands(dnb_brdf_corrected_ntl, vmax=100)"
   ]
  },
  {
   "cell_type": "markdown",
   "metadata": {},
   "source": [
    "## Single QA Bands"
   ]
  },
  {
   "cell_type": "code",
   "execution_count": null,
   "metadata": {
    "ExecuteTime": {
     "end_time": "2020-12-03T16:38:14.004154Z",
     "start_time": "2020-12-03T16:38:13.291751Z"
    }
   },
   "outputs": [],
   "source": [
    "# Plot mandatory quality flag\n",
    "fig, ax = viirs.plot_quality_flag_bitmask_single_band_vnp46a2(\n",
    "    bitmask_array=mandatory_quality_flag, bitmask_name=\"Mandatory Quality Flag\"\n",
    ")"
   ]
  },
  {
   "cell_type": "code",
   "execution_count": null,
   "metadata": {
    "ExecuteTime": {
     "end_time": "2020-12-03T16:38:14.681806Z",
     "start_time": "2020-12-03T16:38:14.006149Z"
    }
   },
   "outputs": [],
   "source": [
    "# Plot snow flag\n",
    "fig, ax = viirs.plot_quality_flag_bitmask_single_band_vnp46a2(\n",
    "    bitmask_array=snow_flag, bitmask_name=\"Snow Flag\"\n",
    ")"
   ]
  },
  {
   "cell_type": "code",
   "execution_count": null,
   "metadata": {
    "ExecuteTime": {
     "end_time": "2020-12-03T16:38:15.343007Z",
     "start_time": "2020-12-03T16:38:14.684767Z"
    }
   },
   "outputs": [],
   "source": [
    "# Plot day/night band\n",
    "fig, ax = viirs.plot_quality_flag_bitmask_single_band_vnp46a2(\n",
    "    bitmask_array=day_night, bitmask_name=\"Day/Night\"\n",
    ")"
   ]
  },
  {
   "cell_type": "code",
   "execution_count": null,
   "metadata": {
    "ExecuteTime": {
     "end_time": "2020-12-03T16:38:16.074124Z",
     "start_time": "2020-12-03T16:38:15.345999Z"
    }
   },
   "outputs": [],
   "source": [
    "# Plot land/water background\n",
    "fig, ax = viirs.plot_quality_flag_bitmask_single_band_vnp46a2(\n",
    "    bitmask_array=land_water_background, bitmask_name=\"Land/Water Background\"\n",
    ")"
   ]
  },
  {
   "cell_type": "code",
   "execution_count": null,
   "metadata": {
    "ExecuteTime": {
     "end_time": "2020-12-03T16:38:16.822144Z",
     "start_time": "2020-12-03T16:38:16.077115Z"
    }
   },
   "outputs": [],
   "source": [
    "# Plot cloud mask quality\n",
    "fig, ax = viirs.plot_quality_flag_bitmask_single_band_vnp46a2(\n",
    "    bitmask_array=cloud_mask_quality, bitmask_name=\"Cloud Mask Quality\"\n",
    ")"
   ]
  },
  {
   "cell_type": "code",
   "execution_count": null,
   "metadata": {
    "ExecuteTime": {
     "end_time": "2020-12-03T16:38:17.512474Z",
     "start_time": "2020-12-03T16:38:16.825138Z"
    }
   },
   "outputs": [],
   "source": [
    "# Plot cloud detection results\n",
    "fig, ax = viirs.plot_quality_flag_bitmask_single_band_vnp46a2(\n",
    "    bitmask_array=cloud_detection, bitmask_name=\"Cloud Detection\"\n",
    ")"
   ]
  },
  {
   "cell_type": "code",
   "execution_count": null,
   "metadata": {
    "ExecuteTime": {
     "end_time": "2020-12-03T16:38:18.117831Z",
     "start_time": "2020-12-03T16:38:17.514438Z"
    }
   },
   "outputs": [],
   "source": [
    "# Plot shadow detected\n",
    "fig, ax = viirs.plot_quality_flag_bitmask_single_band_vnp46a2(\n",
    "    bitmask_array=shadow_detected, bitmask_name=\"Shadow Detected\"\n",
    ")"
   ]
  },
  {
   "cell_type": "code",
   "execution_count": null,
   "metadata": {
    "ExecuteTime": {
     "end_time": "2020-12-03T16:38:18.735098Z",
     "start_time": "2020-12-03T16:38:18.119822Z"
    }
   },
   "outputs": [],
   "source": [
    "# Plot cirrus detection\n",
    "fig, ax = viirs.plot_quality_flag_bitmask_single_band_vnp46a2(\n",
    "    bitmask_array=shadow_detected, bitmask_name=\"Cirrus Detection\"\n",
    ")"
   ]
  },
  {
   "cell_type": "code",
   "execution_count": null,
   "metadata": {
    "ExecuteTime": {
     "end_time": "2020-12-03T16:38:19.355744Z",
     "start_time": "2020-12-03T16:38:18.738067Z"
    }
   },
   "outputs": [],
   "source": [
    "# Plot snow/ice surface\n",
    "fig, ax = viirs.plot_quality_flag_bitmask_single_band_vnp46a2(\n",
    "    bitmask_array=shadow_detected, bitmask_name=\"Snow/Ice Surface\"\n",
    ")"
   ]
  },
  {
   "cell_type": "markdown",
   "metadata": {},
   "source": [
    "## All QA Bands"
   ]
  },
  {
   "cell_type": "code",
   "execution_count": null,
   "metadata": {
    "ExecuteTime": {
     "end_time": "2020-12-03T16:38:24.025633Z",
     "start_time": "2020-12-03T16:38:19.358714Z"
    }
   },
   "outputs": [],
   "source": [
    "# Plot all QA bands\n",
    "fig, ax = viirs.plot_quality_flags_vnp46a2(\n",
    "    vnp46a2_quality_stack=quality_flag_stack, data_source=\"NASA\"\n",
    ")"
   ]
  },
  {
   "cell_type": "markdown",
   "metadata": {},
   "source": [
    "# Data Export"
   ]
  },
  {
   "cell_type": "code",
   "execution_count": null,
   "metadata": {},
   "outputs": [],
   "source": []
  }
 ],
 "metadata": {
  "hide_input": false,
  "kernelspec": {
   "display_name": "Python 3",
   "language": "python",
   "name": "python3"
  },
  "language_info": {
   "codemirror_mode": {
    "name": "ipython",
    "version": 3
   },
   "file_extension": ".py",
   "mimetype": "text/x-python",
   "name": "python",
   "nbconvert_exporter": "python",
   "pygments_lexer": "ipython3",
   "version": "3.7.6"
  },
  "toc": {
   "base_numbering": 1,
   "nav_menu": {},
   "number_sections": true,
   "sideBar": true,
   "skip_h1_title": false,
   "title_cell": "Table of Contents",
   "title_sidebar": "Contents",
   "toc_cell": false,
   "toc_position": {
    "height": "calc(100% - 180px)",
    "left": "10px",
    "top": "150px",
    "width": "320px"
   },
   "toc_section_display": true,
   "toc_window_display": true
  },
  "varInspector": {
   "cols": {
    "lenName": 16,
    "lenType": 16,
    "lenVar": 40
   },
   "kernels_config": {
    "python": {
     "delete_cmd_postfix": "",
     "delete_cmd_prefix": "del ",
     "library": "var_list.py",
     "varRefreshCmd": "print(var_dic_list())"
    },
    "r": {
     "delete_cmd_postfix": ") ",
     "delete_cmd_prefix": "rm(",
     "library": "var_list.r",
     "varRefreshCmd": "cat(var_dic_list()) "
    }
   },
   "types_to_exclude": [
    "module",
    "function",
    "builtin_function_or_method",
    "instance",
    "_Feature"
   ],
   "window_display": false
  }
 },
 "nbformat": 4,
 "nbformat_minor": 4
}
