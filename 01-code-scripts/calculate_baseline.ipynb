{
 "cells": [
  {
   "cell_type": "markdown",
   "metadata": {},
   "source": [
    "# Calculate Baseline\n",
    "\n",
    "Creates baseline mean, standard deviation, variance, and median GeoTiffs for specified each month and specified date ranges.\n",
    "\n",
    "Baseline years:\n",
    "\n",
    "* 2012-2019 (Jan-Dec)\n",
    "\n",
    "Comparison Year:\n",
    "\n",
    "* 2020 (Jan-Dec)"
   ]
  },
  {
   "cell_type": "markdown",
   "metadata": {},
   "source": [
    "# Environment Setup"
   ]
  },
  {
   "cell_type": "code",
   "execution_count": null,
   "metadata": {
    "ExecuteTime": {
     "end_time": "2020-12-16T13:57:26.596137Z",
     "start_time": "2020-12-16T13:57:26.335802Z"
    }
   },
   "outputs": [],
   "source": [
    "# Load Notebook formatter\n",
    "%load_ext nb_black\n",
    "# %reload_ext nb_black"
   ]
  },
  {
   "cell_type": "code",
   "execution_count": null,
   "metadata": {
    "ExecuteTime": {
     "end_time": "2020-12-16T13:57:32.602808Z",
     "start_time": "2020-12-16T13:57:26.620073Z"
    }
   },
   "outputs": [],
   "source": [
    "# Import packages\n",
    "import os\n",
    "import glob\n",
    "import re\n",
    "import warnings\n",
    "import viirs"
   ]
  },
  {
   "cell_type": "code",
   "execution_count": null,
   "metadata": {
    "ExecuteTime": {
     "end_time": "2020-12-16T13:57:32.648684Z",
     "start_time": "2020-12-16T13:57:32.635720Z"
    }
   },
   "outputs": [],
   "source": [
    "# Set Options\n",
    "warnings.filterwarnings(\"ignore\")\n",
    "# sns.set(font_scale=1.5, style=\"whitegrid\")\n",
    "# sns.set(font_scale=1.5)\n",
    "# pd.set_option(\"display.max_columns\", None)\n",
    "# pd.set_option(\"display.max_rows\", None)\n",
    "# pd.set_option(\"precision\", 15)"
   ]
  },
  {
   "cell_type": "code",
   "execution_count": null,
   "metadata": {
    "ExecuteTime": {
     "end_time": "2020-12-16T13:57:32.690598Z",
     "start_time": "2020-12-16T13:57:32.679602Z"
    }
   },
   "outputs": [],
   "source": [
    "# Set working directory\n",
    "os.chdir(\"..\")\n",
    "print(f\"Working directory: {os.getcwd()}\")"
   ]
  },
  {
   "cell_type": "markdown",
   "metadata": {},
   "source": [
    "# User-Defined Variables"
   ]
  },
  {
   "cell_type": "code",
   "execution_count": null,
   "metadata": {
    "ExecuteTime": {
     "end_time": "2020-12-16T13:57:37.262836Z",
     "start_time": "2020-12-16T13:57:37.247843Z"
    }
   },
   "outputs": [],
   "source": [
    "# Set paths\n",
    "geotiff_input_folder = os.path.join(\n",
    "    \"03-processed-data\", \"raster\", \"south-korea\", \"vnp46a2-clipped\"\n",
    ")\n",
    "\n",
    "statistics_output_folder = os.path.join(\n",
    "    \"03-processed-data\", \"raster\", \"south-korea\", \"statistics\", \"vnp46a2\"\n",
    ")"
   ]
  },
  {
   "cell_type": "markdown",
   "metadata": {},
   "source": [
    "# Data Acquisition and Preprocessing"
   ]
  },
  {
   "cell_type": "code",
   "execution_count": null,
   "metadata": {
    "ExecuteTime": {
     "end_time": "2020-12-15T15:07:02.939193Z",
     "start_time": "2020-12-15T15:07:02.930217Z"
    }
   },
   "outputs": [],
   "source": [
    "# Get list of radiance rasters\n",
    "# radiance_geotiffs = glob.glob(os.path.join(geotiff_input_folder, \"*.tif\"))\n",
    "# print(f\"Found {len(radiance_geotiffs)} files\")"
   ]
  },
  {
   "cell_type": "code",
   "execution_count": null,
   "metadata": {
    "ExecuteTime": {
     "end_time": "2020-12-15T15:06:36.442946Z",
     "start_time": "2020-12-15T15:06:36.388058Z"
    }
   },
   "outputs": [],
   "source": [
    "# # Get export metadata (for exporting statistics, same for all files)\n",
    "# metadata = viirs.extract_geotiff_metadata(\n",
    "#     glob.glob(os.path.join(geotiff_input_folder, \"*.tif\"))[0]\n",
    "# )\n",
    "# metadata"
   ]
  },
  {
   "cell_type": "markdown",
   "metadata": {},
   "source": [
    "# Data Processing"
   ]
  },
  {
   "cell_type": "markdown",
   "metadata": {},
   "source": [
    "## Setup"
   ]
  },
  {
   "cell_type": "code",
   "execution_count": null,
   "metadata": {
    "ExecuteTime": {
     "end_time": "2020-12-16T14:07:00.717718Z",
     "start_time": "2020-12-16T14:07:00.558132Z"
    }
   },
   "outputs": [],
   "source": [
    "# Get export metadata (for exporting statistics, same for all files)\n",
    "metadata = viirs.extract_geotiff_metadata(\n",
    "    glob.glob(os.path.join(geotiff_input_folder, \"*.tif\"))[0]\n",
    ")\n",
    "metadata"
   ]
  },
  {
   "cell_type": "code",
   "execution_count": null,
   "metadata": {
    "ExecuteTime": {
     "end_time": "2020-12-16T14:24:46.159640Z",
     "start_time": "2020-12-16T14:24:46.139694Z"
    }
   },
   "outputs": [],
   "source": [
    "# Set month numbers (for filtering data) and abbreviations (for output name)\n",
    "month_numbers = [\n",
    "    \"01\",\n",
    "    \"02\",\n",
    "    \"03\",\n",
    "    \"04\",\n",
    "    \"05\",\n",
    "    \"06\",\n",
    "    \"07\",\n",
    "    \"08\",\n",
    "    \"09\",\n",
    "    \"10\",\n",
    "    \"11\",\n",
    "    \"12\",\n",
    "]\n",
    "\n",
    "month_abbreviations = [\n",
    "    \"jan\",\n",
    "    \"feb\",\n",
    "    \"mar\",\n",
    "    \"apr\",\n",
    "    \"may\",\n",
    "    \"jun\",\n",
    "    \"jul\",\n",
    "    \"aug\",\n",
    "    \"sep\",\n",
    "    \"oct\",\n",
    "    \"nov\",\n",
    "    \"dec\",\n",
    "]"
   ]
  },
  {
   "cell_type": "code",
   "execution_count": null,
   "metadata": {},
   "outputs": [],
   "source": [
    "# Set date ranges of interest (use leap year to include 2/29)\n",
    "date_ranges = [\n",
    "    [\n",
    "        date[4:]\n",
    "        for date in viirs.create_date_range(\n",
    "            start_date=\"2020-03-15\", end_date=\"2020-04-14\"\n",
    "        )\n",
    "    ],\n",
    "    [\n",
    "        date[4:]\n",
    "        for date in viirs.create_date_range(\n",
    "            start_date=\"2020-04-15\", end_date=\"2020-05-14\"\n",
    "        )\n",
    "    ],\n",
    "    [\n",
    "        date[4:]\n",
    "        for date in viirs.create_date_range(\n",
    "            start_date=\"2020-05-15\", end_date=\"2020-06-14\"\n",
    "        )\n",
    "    ],\n",
    "]\n",
    "date_ranges"
   ]
  },
  {
   "cell_type": "markdown",
   "metadata": {},
   "source": [
    "## Baseline Data (2012-2019)"
   ]
  },
  {
   "cell_type": "markdown",
   "metadata": {},
   "source": [
    "### Monthly"
   ]
  },
  {
   "cell_type": "code",
   "execution_count": null,
   "metadata": {
    "ExecuteTime": {
     "end_time": "2020-12-16T14:42:33.245877Z",
     "start_time": "2020-12-16T14:26:42.692237Z"
    }
   },
   "outputs": [],
   "source": [
    "# Calculate statistics for all months over the baseline years\n",
    "for index, baseline_month in enumerate(month_numbers):\n",
    "    print(f\"Started month: {month_abbreviations[index].capitalize()}\")\n",
    "    print(\"Gathering GeoTiffs within range...\")\n",
    "    # Get list of arrays for acqusition dates that match the month\n",
    "    array_list = [\n",
    "        viirs.read_geotiff_into_array(geotiff)\n",
    "        for geotiff in glob.glob(os.path.join(geotiff_input_folder, \"*.tif\"))\n",
    "        if re.compile(f\"^{baseline_month}$\").match(\n",
    "            # Acquisition month\n",
    "            os.path.basename(geotiff)[12:14]\n",
    "        )\n",
    "        # Acquisition year\n",
    "        and os.path.basename(geotiff)[8:12] != \"2020\"\n",
    "    ]\n",
    "\n",
    "    print(f\"Number of arrays: {len(array_list)}\")\n",
    "    print(\"Calculating statistics...\")\n",
    "    # Calculate mean, variance, standard deviation, and median\n",
    "    statistics = {\n",
    "        \"mean\": {\n",
    "            \"array\": viirs.calculate_statistic(array_list, statistic=\"mean\"),\n",
    "            \"file\": (\n",
    "                \"vnp46a2-south-korea-2012-2019-mean-\"\n",
    "                f\"{baseline_month}-{month_abbreviations[index]}.tif\"\n",
    "            ),\n",
    "        },\n",
    "        \"variance\": {\n",
    "            \"array\": viirs.calculate_statistic(\n",
    "                array_list, statistic=\"variance\"\n",
    "            ),\n",
    "            \"file\": (\n",
    "                \"vnp46a2-south-korea-2012-2019-variance-\"\n",
    "                f\"{baseline_month}-{month_abbreviations[index]}.tif\"\n",
    "            ),\n",
    "        },\n",
    "        \"deviation\": {\n",
    "            \"array\": viirs.calculate_statistic(\n",
    "                array_list, statistic=\"deviation\"\n",
    "            ),\n",
    "            \"file\": (\n",
    "                \"vnp46a2-south-korea-2012-2019-deviation-\"\n",
    "                f\"{baseline_month}-{month_abbreviations[index]}.tif\"\n",
    "            ),\n",
    "        },\n",
    "        \"median\": {\n",
    "            \"array\": viirs.calculate_statistic(array_list, statistic=\"median\"),\n",
    "            \"file\": (\n",
    "                \"vnp46a2-south-korea-2012-2019-median-\"\n",
    "                f\"{baseline_month}-{month_abbreviations[index]}.tif\"\n",
    "            ),\n",
    "        },\n",
    "    }\n",
    "\n",
    "    print(\"Exporting statistics to GeoTiffs...\")\n",
    "    # Export stastistic arrays to GeoTiff\n",
    "    for statistic in statistics.keys():\n",
    "        try:\n",
    "            viirs.export_array(\n",
    "                array=statistics.get(statistic).get(\"array\"),\n",
    "                output_path=os.path.join(\n",
    "                    statistics_output_folder,\n",
    "                    statistics.get(statistic).get(\"file\"),\n",
    "                ),\n",
    "                metadata=metadata,\n",
    "            )\n",
    "        except Exception as error:\n",
    "            print(error)\n",
    "\n",
    "    # Ouput completion message\n",
    "    print(f\"Completed month: {month_abbreviations[index].capitalize()}\\n\")"
   ]
  },
  {
   "cell_type": "markdown",
   "metadata": {},
   "source": [
    "### Inter-Month Ranges"
   ]
  },
  {
   "cell_type": "code",
   "execution_count": null,
   "metadata": {
    "ExecuteTime": {
     "end_time": "2020-12-16T14:15:26.541902Z",
     "start_time": "2020-12-16T14:11:18.250661Z"
    }
   },
   "outputs": [],
   "source": [
    "# Complete for all defined date ranges\n",
    "for date_range in date_ranges:\n",
    "    print(f\"Started date range: {date_range[0]}-{date_range[-1]}\")\n",
    "    # Initialize list for storing arrays\n",
    "    array_list = []\n",
    "\n",
    "    print(\"Gathering GeoTiffs within range...\")\n",
    "    # Get data within date range over the baseline years\n",
    "    for geotiff in glob.glob(os.path.join(geotiff_input_folder, \"*.tif\")):\n",
    "        for month_day in date_range:\n",
    "            month = month_day[:2]\n",
    "            day = month_day[2:]\n",
    "\n",
    "            # Get arrays from GeoTiffs within the month-day range\n",
    "            if (\n",
    "                # Acquisition month\n",
    "                re.compile(f\"^{month}$\").match(\n",
    "                    os.path.basename(geotiff)[12:14]\n",
    "                )\n",
    "                # Acquisition day\n",
    "                and re.compile(f\"^{day}$\").match(\n",
    "                    os.path.basename(geotiff)[14:16]\n",
    "                )\n",
    "                # Acquisition year\n",
    "                and os.path.basename(geotiff)[8:12] != \"2020\"\n",
    "            ):\n",
    "                array_list.append(viirs.read_geotiff_into_array(geotiff))\n",
    "\n",
    "    print(f\"Number of arrays: {len(array_list)}\")\n",
    "    print(\"Calculating statistics...\")\n",
    "    # Calculate mean, variance, standard deviation, and median\n",
    "    statistics = {\n",
    "        \"mean\": {\n",
    "            \"array\": viirs.calculate_statistic(array_list, statistic=\"mean\"),\n",
    "            \"file\": (\n",
    "                \"vnp46a2-south-korea-2012-2019-mean-\"\n",
    "                f\"{date_range[0]}-{date_range[-1]}.tif\"\n",
    "            ),\n",
    "        },\n",
    "        \"variance\": {\n",
    "            \"array\": viirs.calculate_statistic(\n",
    "                array_list, statistic=\"variance\"\n",
    "            ),\n",
    "            \"file\": (\n",
    "                \"vnp46a2-south-korea-2012-2019-variance-\"\n",
    "                f\"{date_range[0]}-{date_range[-1]}.tif\"\n",
    "            ),\n",
    "        },\n",
    "        \"deviation\": {\n",
    "            \"array\": viirs.calculate_statistic(\n",
    "                array_list, statistic=\"deviation\"\n",
    "            ),\n",
    "            \"file\": (\n",
    "                \"vnp46a2-south-korea-2012-2019-deviation-\"\n",
    "                f\"{date_range[0]}-{date_range[-1]}.tif\"\n",
    "            ),\n",
    "        },\n",
    "        \"median\": {\n",
    "            \"array\": viirs.calculate_statistic(array_list, statistic=\"median\"),\n",
    "            \"file\": (\n",
    "                \"vnp46a2-south-korea-2012-2019-median-\"\n",
    "                f\"{date_range[0]}-{date_range[-1]}.tif\"\n",
    "            ),\n",
    "        },\n",
    "    }\n",
    "\n",
    "    print(\"Exporting statistics to GeoTiffs...\")\n",
    "    # Export stastistic arrays to GeoTiff\n",
    "    for statistic in statistics.keys():\n",
    "        try:\n",
    "            viirs.export_array(\n",
    "                array=statistics.get(statistic).get(\"array\"),\n",
    "                output_path=os.path.join(\n",
    "                    statistics_output_folder,\n",
    "                    statistics.get(statistic).get(\"file\"),\n",
    "                ),\n",
    "                metadata=metadata,\n",
    "            )\n",
    "        except Exception as error:\n",
    "            print(error)\n",
    "\n",
    "    print(f\"Completed date range: {date_range[0]}-{date_range[-1]}\\n\")"
   ]
  },
  {
   "cell_type": "markdown",
   "metadata": {},
   "source": [
    "## Comparison Data (2020)"
   ]
  },
  {
   "cell_type": "markdown",
   "metadata": {},
   "source": [
    "### Monthly"
   ]
  },
  {
   "cell_type": "code",
   "execution_count": null,
   "metadata": {
    "ExecuteTime": {
     "end_time": "2020-12-16T14:26:07.638557Z",
     "start_time": "2020-12-16T14:26:07.266442Z"
    }
   },
   "outputs": [],
   "source": [
    "# Calculate statistics for all months over the baseline years\n",
    "for index, baseline_month in enumerate(month_numbers):\n",
    "    print(f\"Started month: {month_abbreviations[index].capitalize()}\")\n",
    "    print(\"Gathering GeoTiffs within range...\")\n",
    "    # Get list of arrays for acqusition dates that match the month\n",
    "    array_list = [\n",
    "        viirs.read_geotiff_into_array(geotiff)\n",
    "        for geotiff in glob.glob(os.path.join(geotiff_input_folder, \"*.tif\"))\n",
    "        if re.compile(f\"^{baseline_month}$\").match(\n",
    "            # Acquisition month\n",
    "            os.path.basename(geotiff)[12:14]\n",
    "        )\n",
    "        # Acquisition year\n",
    "        and os.path.basename(geotiff)[8:12] == \"2020\"\n",
    "    ]\n",
    "\n",
    "    print(f\"Number of arrays: {len(array_list)}\")\n",
    "    print(\"Calculating statistics...\")\n",
    "    # Calculate mean, variance, standard deviation, and median\n",
    "    statistics = {\n",
    "        \"mean\": {\n",
    "            \"array\": viirs.calculate_statistic(array_list, statistic=\"mean\"),\n",
    "            \"file\": (\n",
    "                \"vnp46a2-south-korea-2020-mean-\"\n",
    "                f\"{baseline_month}-{month_abbreviations[index]}.tif\"\n",
    "            ),\n",
    "        },\n",
    "        \"variance\": {\n",
    "            \"array\": viirs.calculate_statistic(\n",
    "                array_list, statistic=\"variance\"\n",
    "            ),\n",
    "            \"file\": (\n",
    "                \"vnp46a2-south-korea-2020-variance-\"\n",
    "                f\"{baseline_month}-{month_abbreviations[index]}.tif\"\n",
    "            ),\n",
    "        },\n",
    "        \"deviation\": {\n",
    "            \"array\": viirs.calculate_statistic(\n",
    "                array_list, statistic=\"deviation\"\n",
    "            ),\n",
    "            \"file\": (\n",
    "                \"vnp46a2-south-korea-2020-deviation-\"\n",
    "                f\"{baseline_month}-{month_abbreviations[index]}.tif\"\n",
    "            ),\n",
    "        },\n",
    "        \"median\": {\n",
    "            \"array\": viirs.calculate_statistic(array_list, statistic=\"median\"),\n",
    "            \"file\": (\n",
    "                \"vnp46a2-south-korea-2020-median-\"\n",
    "                f\"{baseline_month}-{month_abbreviations[index]}.tif\"\n",
    "            ),\n",
    "        },\n",
    "    }\n",
    "\n",
    "    print(\"Exporting statistics to GeoTiffs...\")\n",
    "    # Export stastistic arrays to GeoTiff\n",
    "    for statistic in statistics.keys():\n",
    "        try:\n",
    "            viirs.export_array(\n",
    "                array=statistics.get(statistic).get(\"array\"),\n",
    "                output_path=os.path.join(\n",
    "                    statistics_output_folder,\n",
    "                    statistics.get(statistic).get(\"file\"),\n",
    "                ),\n",
    "                metadata=metadata,\n",
    "            )\n",
    "        except Exception as error:\n",
    "            print(error)\n",
    "\n",
    "    # Ouput completion message\n",
    "    print(f\"Completed month: {month_abbreviations[index].capitalize()}\\n\")"
   ]
  },
  {
   "cell_type": "markdown",
   "metadata": {},
   "source": [
    "### Inter-Month Ranges"
   ]
  },
  {
   "cell_type": "code",
   "execution_count": null,
   "metadata": {
    "ExecuteTime": {
     "end_time": "2020-12-15T16:21:30.693256Z",
     "start_time": "2020-12-15T16:21:29.388440Z"
    }
   },
   "outputs": [],
   "source": [
    "# Complete for all defined date ranges\n",
    "for date_range in date_ranges:\n",
    "    print(f\"Started date range: {date_range[0]}-{date_range[-1]}\")\n",
    "    # Initialize list for storing arrays\n",
    "    array_list = []\n",
    "\n",
    "    print(\"Gathering GeoTiffs within range...\")\n",
    "    # Get data within date range over the baseline years\n",
    "    for geotiff in glob.glob(os.path.join(geotiff_input_folder, \"*.tif\")):\n",
    "        for month_day in date_range:\n",
    "            month = month_day[:2]\n",
    "            day = month_day[2:]\n",
    "\n",
    "            # Get arrays from GeoTiffs within the month-day range\n",
    "            if (\n",
    "                # Acquisition month\n",
    "                re.compile(f\"^{month}$\").match(\n",
    "                    os.path.basename(geotiff)[12:14]\n",
    "                )\n",
    "                # Acquisition day\n",
    "                and re.compile(f\"^{day}$\").match(\n",
    "                    os.path.basename(geotiff)[14:16]\n",
    "                )\n",
    "                # Acquisition year\n",
    "                and os.path.basename(geotiff)[8:12] == \"2020\"\n",
    "            ):\n",
    "                array_list.append(viirs.read_geotiff_into_array(geotiff))\n",
    "\n",
    "    print(f\"Number of arrays: {len(array_list)}\")\n",
    "    print(\"Calculating statistics...\")\n",
    "    # Calculate mean, variance, standard deviation, and median\n",
    "    statistics = {\n",
    "        \"mean\": {\n",
    "            \"array\": viirs.calculate_statistic(array_list, statistic=\"mean\"),\n",
    "            \"file\": (\n",
    "                \"vnp46a2-south-korea-2020-mean-\"\n",
    "                f\"{date_range[0]}-{date_range[-1]}.tif\"\n",
    "            ),\n",
    "        },\n",
    "        \"variance\": {\n",
    "            \"array\": viirs.calculate_statistic(\n",
    "                array_list, statistic=\"variance\"\n",
    "            ),\n",
    "            \"file\": (\n",
    "                \"vnp46a2-south-korea-2020-variance-\"\n",
    "                f\"{date_range[0]}-{date_range[-1]}.tif\"\n",
    "            ),\n",
    "        },\n",
    "        \"deviation\": {\n",
    "            \"array\": viirs.calculate_statistic(\n",
    "                array_list, statistic=\"deviation\"\n",
    "            ),\n",
    "            \"file\": (\n",
    "                \"vnp46a2-south-korea-2020-deviation-\"\n",
    "                f\"{date_range[0]}-{date_range[-1]}.tif\"\n",
    "            ),\n",
    "        },\n",
    "        \"median\": {\n",
    "            \"array\": viirs.calculate_statistic(array_list, statistic=\"median\"),\n",
    "            \"file\": (\n",
    "                \"vnp46a2-south-korea-2020-median-\"\n",
    "                f\"{date_range[0]}-{date_range[-1]}.tif\"\n",
    "            ),\n",
    "        },\n",
    "    }\n",
    "\n",
    "    print(\"Exporting statistics to GeoTiffs...\")\n",
    "    # Export stastistic arrays to GeoTiff\n",
    "    for statistic in statistics.keys():\n",
    "        try:\n",
    "            viirs.export_array(\n",
    "                array=statistics.get(statistic).get(\"array\"),\n",
    "                output_path=os.path.join(\n",
    "                    statistics_output_folder,\n",
    "                    statistics.get(statistic).get(\"file\"),\n",
    "                ),\n",
    "                metadata=metadata,\n",
    "            )\n",
    "        except Exception as error:\n",
    "            print(error)\n",
    "\n",
    "    print(f\"Completed date range: {date_range[0]}-{date_range[-1]}\\n\")"
   ]
  }
 ],
 "metadata": {
  "hide_input": false,
  "jupytext": {
   "formats": "ipynb,py:light"
  },
  "kernelspec": {
   "display_name": "Python 3",
   "language": "python",
   "name": "python3"
  },
  "language_info": {
   "codemirror_mode": {
    "name": "ipython",
    "version": 3
   },
   "file_extension": ".py",
   "mimetype": "text/x-python",
   "name": "python",
   "nbconvert_exporter": "python",
   "pygments_lexer": "ipython3",
   "version": "3.7.6"
  },
  "toc": {
   "base_numbering": 1,
   "nav_menu": {},
   "number_sections": true,
   "sideBar": true,
   "skip_h1_title": false,
   "title_cell": "Table of Contents",
   "title_sidebar": "Contents",
   "toc_cell": false,
   "toc_position": {},
   "toc_section_display": true,
   "toc_window_display": true
  },
  "varInspector": {
   "cols": {
    "lenName": 16,
    "lenType": 16,
    "lenVar": 40
   },
   "kernels_config": {
    "python": {
     "delete_cmd_postfix": "",
     "delete_cmd_prefix": "del ",
     "library": "var_list.py",
     "varRefreshCmd": "print(var_dic_list())"
    },
    "r": {
     "delete_cmd_postfix": ") ",
     "delete_cmd_prefix": "rm(",
     "library": "var_list.r",
     "varRefreshCmd": "cat(var_dic_list()) "
    }
   },
   "types_to_exclude": [
    "module",
    "function",
    "builtin_function_or_method",
    "instance",
    "_Feature"
   ],
   "window_display": false
  }
 },
 "nbformat": 4,
 "nbformat_minor": 4
}
